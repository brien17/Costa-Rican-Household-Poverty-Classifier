{
 "cells": [
  {
   "cell_type": "code",
   "execution_count": 33,
   "metadata": {},
   "outputs": [],
   "source": [
    "# Importing libraries\n",
    "import pandas as pd\n",
    "import matplotlib.pyplot as plt\n",
    "import seaborn as sns\n",
    "import numpy as np\n",
    "%matplotlib inline"
   ]
  },
  {
   "cell_type": "markdown",
   "metadata": {},
   "source": [
    "# Exploratory Data Analysis "
   ]
  },
  {
   "cell_type": "code",
   "execution_count": 34,
   "metadata": {},
   "outputs": [],
   "source": [
    "# Reading the data\n",
    "train = pd.read_csv('train.csv')"
   ]
  },
  {
   "cell_type": "code",
   "execution_count": 35,
   "metadata": {},
   "outputs": [
    {
     "data": {
      "text/html": [
       "<div>\n",
       "<style scoped>\n",
       "    .dataframe tbody tr th:only-of-type {\n",
       "        vertical-align: middle;\n",
       "    }\n",
       "\n",
       "    .dataframe tbody tr th {\n",
       "        vertical-align: top;\n",
       "    }\n",
       "\n",
       "    .dataframe thead th {\n",
       "        text-align: right;\n",
       "    }\n",
       "</style>\n",
       "<table border=\"1\" class=\"dataframe\">\n",
       "  <thead>\n",
       "    <tr style=\"text-align: right;\">\n",
       "      <th></th>\n",
       "      <th>Id</th>\n",
       "      <th>v2a1</th>\n",
       "      <th>hacdor</th>\n",
       "      <th>rooms</th>\n",
       "      <th>hacapo</th>\n",
       "      <th>v14a</th>\n",
       "      <th>refrig</th>\n",
       "      <th>v18q</th>\n",
       "      <th>v18q1</th>\n",
       "      <th>r4h1</th>\n",
       "      <th>...</th>\n",
       "      <th>SQBescolari</th>\n",
       "      <th>SQBage</th>\n",
       "      <th>SQBhogar_total</th>\n",
       "      <th>SQBedjefe</th>\n",
       "      <th>SQBhogar_nin</th>\n",
       "      <th>SQBovercrowding</th>\n",
       "      <th>SQBdependency</th>\n",
       "      <th>SQBmeaned</th>\n",
       "      <th>agesq</th>\n",
       "      <th>Target</th>\n",
       "    </tr>\n",
       "  </thead>\n",
       "  <tbody>\n",
       "    <tr>\n",
       "      <th>0</th>\n",
       "      <td>ID_279628684</td>\n",
       "      <td>190000.0</td>\n",
       "      <td>0</td>\n",
       "      <td>3</td>\n",
       "      <td>0</td>\n",
       "      <td>1</td>\n",
       "      <td>1</td>\n",
       "      <td>0</td>\n",
       "      <td>NaN</td>\n",
       "      <td>0</td>\n",
       "      <td>...</td>\n",
       "      <td>100</td>\n",
       "      <td>1849</td>\n",
       "      <td>1</td>\n",
       "      <td>100</td>\n",
       "      <td>0</td>\n",
       "      <td>1.000000</td>\n",
       "      <td>0.0</td>\n",
       "      <td>100.0</td>\n",
       "      <td>1849</td>\n",
       "      <td>4</td>\n",
       "    </tr>\n",
       "    <tr>\n",
       "      <th>1</th>\n",
       "      <td>ID_f29eb3ddd</td>\n",
       "      <td>135000.0</td>\n",
       "      <td>0</td>\n",
       "      <td>4</td>\n",
       "      <td>0</td>\n",
       "      <td>1</td>\n",
       "      <td>1</td>\n",
       "      <td>1</td>\n",
       "      <td>1.0</td>\n",
       "      <td>0</td>\n",
       "      <td>...</td>\n",
       "      <td>144</td>\n",
       "      <td>4489</td>\n",
       "      <td>1</td>\n",
       "      <td>144</td>\n",
       "      <td>0</td>\n",
       "      <td>1.000000</td>\n",
       "      <td>64.0</td>\n",
       "      <td>144.0</td>\n",
       "      <td>4489</td>\n",
       "      <td>4</td>\n",
       "    </tr>\n",
       "    <tr>\n",
       "      <th>2</th>\n",
       "      <td>ID_68de51c94</td>\n",
       "      <td>NaN</td>\n",
       "      <td>0</td>\n",
       "      <td>8</td>\n",
       "      <td>0</td>\n",
       "      <td>1</td>\n",
       "      <td>1</td>\n",
       "      <td>0</td>\n",
       "      <td>NaN</td>\n",
       "      <td>0</td>\n",
       "      <td>...</td>\n",
       "      <td>121</td>\n",
       "      <td>8464</td>\n",
       "      <td>1</td>\n",
       "      <td>0</td>\n",
       "      <td>0</td>\n",
       "      <td>0.250000</td>\n",
       "      <td>64.0</td>\n",
       "      <td>121.0</td>\n",
       "      <td>8464</td>\n",
       "      <td>4</td>\n",
       "    </tr>\n",
       "    <tr>\n",
       "      <th>3</th>\n",
       "      <td>ID_d671db89c</td>\n",
       "      <td>180000.0</td>\n",
       "      <td>0</td>\n",
       "      <td>5</td>\n",
       "      <td>0</td>\n",
       "      <td>1</td>\n",
       "      <td>1</td>\n",
       "      <td>1</td>\n",
       "      <td>1.0</td>\n",
       "      <td>0</td>\n",
       "      <td>...</td>\n",
       "      <td>81</td>\n",
       "      <td>289</td>\n",
       "      <td>16</td>\n",
       "      <td>121</td>\n",
       "      <td>4</td>\n",
       "      <td>1.777778</td>\n",
       "      <td>1.0</td>\n",
       "      <td>121.0</td>\n",
       "      <td>289</td>\n",
       "      <td>4</td>\n",
       "    </tr>\n",
       "    <tr>\n",
       "      <th>4</th>\n",
       "      <td>ID_d56d6f5f5</td>\n",
       "      <td>180000.0</td>\n",
       "      <td>0</td>\n",
       "      <td>5</td>\n",
       "      <td>0</td>\n",
       "      <td>1</td>\n",
       "      <td>1</td>\n",
       "      <td>1</td>\n",
       "      <td>1.0</td>\n",
       "      <td>0</td>\n",
       "      <td>...</td>\n",
       "      <td>121</td>\n",
       "      <td>1369</td>\n",
       "      <td>16</td>\n",
       "      <td>121</td>\n",
       "      <td>4</td>\n",
       "      <td>1.777778</td>\n",
       "      <td>1.0</td>\n",
       "      <td>121.0</td>\n",
       "      <td>1369</td>\n",
       "      <td>4</td>\n",
       "    </tr>\n",
       "  </tbody>\n",
       "</table>\n",
       "<p>5 rows × 143 columns</p>\n",
       "</div>"
      ],
      "text/plain": [
       "             Id      v2a1  hacdor  rooms  hacapo  v14a  refrig  v18q  v18q1  \\\n",
       "0  ID_279628684  190000.0       0      3       0     1       1     0    NaN   \n",
       "1  ID_f29eb3ddd  135000.0       0      4       0     1       1     1    1.0   \n",
       "2  ID_68de51c94       NaN       0      8       0     1       1     0    NaN   \n",
       "3  ID_d671db89c  180000.0       0      5       0     1       1     1    1.0   \n",
       "4  ID_d56d6f5f5  180000.0       0      5       0     1       1     1    1.0   \n",
       "\n",
       "   r4h1   ...    SQBescolari  SQBage  SQBhogar_total  SQBedjefe  SQBhogar_nin  \\\n",
       "0     0   ...            100    1849               1        100             0   \n",
       "1     0   ...            144    4489               1        144             0   \n",
       "2     0   ...            121    8464               1          0             0   \n",
       "3     0   ...             81     289              16        121             4   \n",
       "4     0   ...            121    1369              16        121             4   \n",
       "\n",
       "   SQBovercrowding  SQBdependency  SQBmeaned  agesq  Target  \n",
       "0         1.000000            0.0      100.0   1849       4  \n",
       "1         1.000000           64.0      144.0   4489       4  \n",
       "2         0.250000           64.0      121.0   8464       4  \n",
       "3         1.777778            1.0      121.0    289       4  \n",
       "4         1.777778            1.0      121.0   1369       4  \n",
       "\n",
       "[5 rows x 143 columns]"
      ]
     },
     "execution_count": 35,
     "metadata": {},
     "output_type": "execute_result"
    }
   ],
   "source": [
    "train.head()"
   ]
  },
  {
   "cell_type": "code",
   "execution_count": 36,
   "metadata": {},
   "outputs": [
    {
     "name": "stdout",
     "output_type": "stream",
     "text": [
      "<class 'pandas.core.frame.DataFrame'>\n",
      "RangeIndex: 9557 entries, 0 to 9556\n",
      "Columns: 143 entries, Id to Target\n",
      "dtypes: float64(8), int64(130), object(5)\n",
      "memory usage: 10.4+ MB\n"
     ]
    }
   ],
   "source": [
    "train.info()"
   ]
  },
  {
   "cell_type": "code",
   "execution_count": 37,
   "metadata": {},
   "outputs": [
    {
     "data": {
      "text/plain": [
       "rez_esc      7928\n",
       "v18q1        7342\n",
       "v2a1         6860\n",
       "SQBmeaned       5\n",
       "meaneduc        5\n",
       "dtype: int64"
      ]
     },
     "execution_count": 37,
     "metadata": {},
     "output_type": "execute_result"
    }
   ],
   "source": [
    "# Checking for columns that have null values\n",
    "null_counts = train.isnull().sum()\n",
    "null_counts[null_counts > 0].sort_values(ascending=False)"
   ]
  },
  {
   "cell_type": "code",
   "execution_count": 38,
   "metadata": {},
   "outputs": [],
   "source": [
    "# Replacing the null values in the rez_esc column with zeros\n",
    "# The rez_esc column appears to contain null values where there should be zeros\n",
    "train['rez_esc'] = train['rez_esc'].fillna(0)"
   ]
  },
  {
   "cell_type": "code",
   "execution_count": 39,
   "metadata": {},
   "outputs": [
    {
     "data": {
      "text/plain": [
       "0    7342\n",
       "1    2215\n",
       "Name: v18q, dtype: int64"
      ]
     },
     "execution_count": 39,
     "metadata": {},
     "output_type": "execute_result"
    }
   ],
   "source": [
    "# Checking the number of households with no tablets\n",
    "train['v18q'].value_counts()"
   ]
  },
  {
   "cell_type": "code",
   "execution_count": 40,
   "metadata": {},
   "outputs": [],
   "source": [
    "# The null values in this column can be safely assumed to be households without tablets because the numbers line up perfectly\n",
    "# with that assumption taking into account information in the v18q column\n",
    "train['v18q1'] = train[['v18q1']].fillna(0)"
   ]
  },
  {
   "cell_type": "code",
   "execution_count": 41,
   "metadata": {},
   "outputs": [
    {
     "data": {
      "text/plain": [
       "150000.0     233\n",
       "100000.0     181\n",
       "200000.0     159\n",
       "120000.0     149\n",
       "50000.0      118\n",
       "80000.0      104\n",
       "90000.0       81\n",
       "70000.0       79\n",
       "180000.0      77\n",
       "300000.0      76\n",
       "250000.0      75\n",
       "40000.0       72\n",
       "60000.0       57\n",
       "130000.0      53\n",
       "350000.0      53\n",
       "110000.0      53\n",
       "30000.0       48\n",
       "160000.0      46\n",
       "170000.0      41\n",
       "140000.0      39\n",
       "220000.0      30\n",
       "0.0           29\n",
       "570540.0      25\n",
       "45000.0       25\n",
       "175000.0      23\n",
       "400000.0      22\n",
       "20000.0       22\n",
       "25000.0       21\n",
       "285270.0      21\n",
       "35000.0       20\n",
       "            ... \n",
       "176000.0       2\n",
       "420000.0       2\n",
       "52000.0        2\n",
       "100297.0       2\n",
       "155000.0       2\n",
       "159751.0       2\n",
       "102000.0       2\n",
       "58731.0        2\n",
       "278000.0       2\n",
       "32600.0        2\n",
       "470000.0       2\n",
       "2353477.0      2\n",
       "44000.0        2\n",
       "93000.0        2\n",
       "275000.0       2\n",
       "288750.0       2\n",
       "325000.0       2\n",
       "16000.0        2\n",
       "219087.0       2\n",
       "234000.0       1\n",
       "249896.0       1\n",
       "125518.0       1\n",
       "25310.0        1\n",
       "510000.0       1\n",
       "253000.0       1\n",
       "119813.0       1\n",
       "268153.0       1\n",
       "542013.0       1\n",
       "118097.0       1\n",
       "108000.0       1\n",
       "Name: v2a1, Length: 157, dtype: int64"
      ]
     },
     "execution_count": 41,
     "metadata": {},
     "output_type": "execute_result"
    }
   ],
   "source": [
    "# Checking the contents of this column\n",
    "train['v2a1'].value_counts()"
   ]
  },
  {
   "cell_type": "code",
   "execution_count": 42,
   "metadata": {},
   "outputs": [],
   "source": [
    "# Null values cannot be safely imputed for this column so this column is dropped\n",
    "train = train.drop('v2a1', axis=1)"
   ]
  },
  {
   "cell_type": "code",
   "execution_count": 43,
   "metadata": {},
   "outputs": [
    {
     "data": {
      "text/plain": [
       "count    9552.000000\n",
       "mean      102.588867\n",
       "std        93.516890\n",
       "min         0.000000\n",
       "25%        36.000000\n",
       "50%        81.000000\n",
       "75%       134.560010\n",
       "max      1369.000000\n",
       "Name: SQBmeaned, dtype: float64"
      ]
     },
     "execution_count": 43,
     "metadata": {},
     "output_type": "execute_result"
    }
   ],
   "source": [
    "# Checking the SQBmeaned column\n",
    "train['SQBmeaned'].describe()"
   ]
  },
  {
   "cell_type": "code",
   "execution_count": 44,
   "metadata": {},
   "outputs": [
    {
     "data": {
      "text/plain": [
       "count    9552.000000\n",
       "mean        9.231523\n",
       "std         4.167694\n",
       "min         0.000000\n",
       "25%         6.000000\n",
       "50%         9.000000\n",
       "75%        11.600000\n",
       "max        37.000000\n",
       "Name: meaneduc, dtype: float64"
      ]
     },
     "execution_count": 44,
     "metadata": {},
     "output_type": "execute_result"
    }
   ],
   "source": [
    "# Checking the meaneduc column\n",
    "train['meaneduc'].describe()"
   ]
  },
  {
   "cell_type": "code",
   "execution_count": 45,
   "metadata": {},
   "outputs": [],
   "source": [
    "# filling null values in those columns with the mean value for the column\n",
    "train['SQBmeaned'] = train[['SQBmeaned']].fillna(102.58886699019641)\n",
    "train['meaneduc'] = train[['meaneduc']].fillna(9.231522935701435)"
   ]
  },
  {
   "cell_type": "code",
   "execution_count": 46,
   "metadata": {},
   "outputs": [
    {
     "data": {
      "text/plain": [
       "Series([], dtype: int64)"
      ]
     },
     "execution_count": 46,
     "metadata": {},
     "output_type": "execute_result"
    }
   ],
   "source": [
    "# checking there are no more null values\n",
    "null_counts = train.isnull().sum()\n",
    "null_counts[null_counts > 0].sort_values(ascending=False)"
   ]
  },
  {
   "cell_type": "code",
   "execution_count": 47,
   "metadata": {},
   "outputs": [
    {
     "name": "stdout",
     "output_type": "stream",
     "text": [
      "0 object\n",
      "94 object\n",
      "99 object\n",
      "100 object\n",
      "101 object\n"
     ]
    }
   ],
   "source": [
    "# finding columns that have object type data\n",
    "y=-1\n",
    "for x in range(0,139):\n",
    "\n",
    "    y+=1\n",
    "    if train.iloc[:,x].dtype == 'object':\n",
    "        \n",
    "        print(y , train.iloc[:,x].dtype)\n"
   ]
  },
  {
   "cell_type": "code",
   "execution_count": 48,
   "metadata": {},
   "outputs": [
    {
     "data": {
      "text/html": [
       "<div>\n",
       "<style scoped>\n",
       "    .dataframe tbody tr th:only-of-type {\n",
       "        vertical-align: middle;\n",
       "    }\n",
       "\n",
       "    .dataframe tbody tr th {\n",
       "        vertical-align: top;\n",
       "    }\n",
       "\n",
       "    .dataframe thead th {\n",
       "        text-align: right;\n",
       "    }\n",
       "</style>\n",
       "<table border=\"1\" class=\"dataframe\">\n",
       "  <thead>\n",
       "    <tr style=\"text-align: right;\">\n",
       "      <th></th>\n",
       "      <th>parentesco11</th>\n",
       "      <th>parentesco12</th>\n",
       "      <th>idhogar</th>\n",
       "      <th>hogar_nin</th>\n",
       "      <th>hogar_adul</th>\n",
       "      <th>hogar_mayor</th>\n",
       "      <th>hogar_total</th>\n",
       "      <th>dependency</th>\n",
       "      <th>edjefe</th>\n",
       "      <th>edjefa</th>\n",
       "    </tr>\n",
       "  </thead>\n",
       "  <tbody>\n",
       "    <tr>\n",
       "      <th>0</th>\n",
       "      <td>0</td>\n",
       "      <td>0</td>\n",
       "      <td>21eb7fcc1</td>\n",
       "      <td>0</td>\n",
       "      <td>1</td>\n",
       "      <td>0</td>\n",
       "      <td>1</td>\n",
       "      <td>no</td>\n",
       "      <td>10</td>\n",
       "      <td>no</td>\n",
       "    </tr>\n",
       "    <tr>\n",
       "      <th>1</th>\n",
       "      <td>0</td>\n",
       "      <td>0</td>\n",
       "      <td>0e5d7a658</td>\n",
       "      <td>0</td>\n",
       "      <td>1</td>\n",
       "      <td>1</td>\n",
       "      <td>1</td>\n",
       "      <td>8</td>\n",
       "      <td>12</td>\n",
       "      <td>no</td>\n",
       "    </tr>\n",
       "    <tr>\n",
       "      <th>2</th>\n",
       "      <td>0</td>\n",
       "      <td>0</td>\n",
       "      <td>2c7317ea8</td>\n",
       "      <td>0</td>\n",
       "      <td>1</td>\n",
       "      <td>1</td>\n",
       "      <td>1</td>\n",
       "      <td>8</td>\n",
       "      <td>no</td>\n",
       "      <td>11</td>\n",
       "    </tr>\n",
       "    <tr>\n",
       "      <th>3</th>\n",
       "      <td>0</td>\n",
       "      <td>0</td>\n",
       "      <td>2b58d945f</td>\n",
       "      <td>2</td>\n",
       "      <td>2</td>\n",
       "      <td>0</td>\n",
       "      <td>4</td>\n",
       "      <td>yes</td>\n",
       "      <td>11</td>\n",
       "      <td>no</td>\n",
       "    </tr>\n",
       "    <tr>\n",
       "      <th>4</th>\n",
       "      <td>0</td>\n",
       "      <td>0</td>\n",
       "      <td>2b58d945f</td>\n",
       "      <td>2</td>\n",
       "      <td>2</td>\n",
       "      <td>0</td>\n",
       "      <td>4</td>\n",
       "      <td>yes</td>\n",
       "      <td>11</td>\n",
       "      <td>no</td>\n",
       "    </tr>\n",
       "  </tbody>\n",
       "</table>\n",
       "</div>"
      ],
      "text/plain": [
       "   parentesco11  parentesco12    idhogar  hogar_nin  hogar_adul  hogar_mayor  \\\n",
       "0             0             0  21eb7fcc1          0           1            0   \n",
       "1             0             0  0e5d7a658          0           1            1   \n",
       "2             0             0  2c7317ea8          0           1            1   \n",
       "3             0             0  2b58d945f          2           2            0   \n",
       "4             0             0  2b58d945f          2           2            0   \n",
       "\n",
       "   hogar_total dependency edjefe edjefa  \n",
       "0            1         no     10     no  \n",
       "1            1          8     12     no  \n",
       "2            1          8     no     11  \n",
       "3            4        yes     11     no  \n",
       "4            4        yes     11     no  "
      ]
     },
     "execution_count": 48,
     "metadata": {},
     "output_type": "execute_result"
    }
   ],
   "source": [
    "train.iloc[:, 92:102].head()"
   ]
  },
  {
   "cell_type": "code",
   "execution_count": 49,
   "metadata": {},
   "outputs": [
    {
     "data": {
      "text/plain": [
       "yes          2192\n",
       "no           1747\n",
       ".5           1497\n",
       "2             730\n",
       "1.5           713\n",
       ".33333334     598\n",
       ".66666669     487\n",
       "8             378\n",
       ".25           260\n",
       "3             236\n",
       "4             100\n",
       ".75            98\n",
       ".2             90\n",
       ".40000001      84\n",
       "1.3333334      84\n",
       "2.5            77\n",
       "5              24\n",
       "3.5            18\n",
       "1.25           18\n",
       ".80000001      18\n",
       "2.25           13\n",
       ".71428573      12\n",
       "1.75           11\n",
       "1.2            11\n",
       ".22222222      11\n",
       ".83333331      11\n",
       ".2857143        9\n",
       "1.6666666       8\n",
       ".60000002       8\n",
       ".16666667       7\n",
       "6               7\n",
       "Name: dependency, dtype: int64"
      ]
     },
     "execution_count": 49,
     "metadata": {},
     "output_type": "execute_result"
    }
   ],
   "source": [
    "# listed on kaggle as \n",
    "# (number of members of the household younger than 19 or older than 64)/(number of member of household between 19 and 64)\n",
    "# actual column contains mostly yes or no, instead of expected numbers\n",
    "# there is no indication as to what numbers yes and no corrolate to so the data is not usefull\n",
    "\n",
    "train['dependency'].value_counts()"
   ]
  },
  {
   "cell_type": "code",
   "execution_count": 50,
   "metadata": {},
   "outputs": [
    {
     "data": {
      "text/plain": [
       "no     3762\n",
       "6      1845\n",
       "11      751\n",
       "9       486\n",
       "3       307\n",
       "15      285\n",
       "8       257\n",
       "7       234\n",
       "5       222\n",
       "14      208\n",
       "17      202\n",
       "2       194\n",
       "4       137\n",
       "16      134\n",
       "yes     123\n",
       "12      113\n",
       "10      111\n",
       "13      103\n",
       "21       43\n",
       "18       19\n",
       "19       14\n",
       "20        7\n",
       "Name: edjefe, dtype: int64"
      ]
     },
     "execution_count": 50,
     "metadata": {},
     "output_type": "execute_result"
    }
   ],
   "source": [
    "# kaggle listed as\n",
    "# years of education of male head of household, based on the interaction of escolari (years of education), \n",
    "# head of household and gender, yes=1 and no=0\n",
    "# appears redundant as other columns describe the education levels of each individual and if they are head of the \n",
    "# household\n",
    "\n",
    "train['edjefe'].value_counts()"
   ]
  },
  {
   "cell_type": "code",
   "execution_count": 51,
   "metadata": {},
   "outputs": [
    {
     "data": {
      "text/plain": [
       "no     6230\n",
       "6       947\n",
       "11      399\n",
       "9       237\n",
       "8       217\n",
       "15      188\n",
       "7       179\n",
       "5       176\n",
       "3       152\n",
       "4       136\n",
       "14      120\n",
       "16      113\n",
       "10       96\n",
       "2        84\n",
       "17       76\n",
       "12       72\n",
       "yes      69\n",
       "13       52\n",
       "21        5\n",
       "19        4\n",
       "18        3\n",
       "20        2\n",
       "Name: edjefa, dtype: int64"
      ]
     },
     "execution_count": 51,
     "metadata": {},
     "output_type": "execute_result"
    }
   ],
   "source": [
    "# kaggle listed as\n",
    "# years of education of female head of household, based on the interaction of escolari (years of education),\n",
    "# head of household and gender, yes=1 and no=0\n",
    "# appears redundant as other columns describe the education levels of each individual and if they are head of the \n",
    "# household\n",
    "\n",
    "train['edjefa'].value_counts()"
   ]
  },
  {
   "cell_type": "code",
   "execution_count": 52,
   "metadata": {},
   "outputs": [],
   "source": [
    "# Droping redundant and nonsensical columns\n",
    "\n",
    "train = train.drop(columns=['edjefa','edjefe', 'dependency','Id'])"
   ]
  },
  {
   "cell_type": "code",
   "execution_count": 53,
   "metadata": {},
   "outputs": [],
   "source": [
    "# Creating a list of households to replace idhogar column\n",
    "l = [0]\n",
    "y = 0\n",
    "for x in range(1,9557):\n",
    "    if train['idhogar'][x] != train['idhogar'][x-1]:\n",
    "        y += 1\n",
    "    l.append(y)\n",
    "    "
   ]
  },
  {
   "cell_type": "code",
   "execution_count": 54,
   "metadata": {},
   "outputs": [],
   "source": [
    "# Adding that as a column to the data frame\n",
    "train['houseID'] = l"
   ]
  },
  {
   "cell_type": "code",
   "execution_count": 55,
   "metadata": {},
   "outputs": [],
   "source": [
    "# Dropping the idhogar column\n",
    "train = train.drop('idhogar', axis = 1)"
   ]
  },
  {
   "cell_type": "code",
   "execution_count": 56,
   "metadata": {},
   "outputs": [
    {
     "name": "stdout",
     "output_type": "stream",
     "text": [
      "<class 'pandas.core.frame.DataFrame'>\n",
      "RangeIndex: 9557 entries, 0 to 9556\n",
      "Columns: 138 entries, hacdor to houseID\n",
      "dtypes: float64(7), int64(131)\n",
      "memory usage: 10.1 MB\n"
     ]
    }
   ],
   "source": [
    "# Checking that all of the data is of the correct type\n",
    "train.info()"
   ]
  },
  {
   "cell_type": "markdown",
   "metadata": {},
   "source": [
    "# Visual Analysis"
   ]
  },
  {
   "cell_type": "markdown",
   "metadata": {},
   "source": [
    "### What Do Households of Different Income Levels Own?"
   ]
  },
  {
   "cell_type": "markdown",
   "metadata": {},
   "source": [
    "From this information it can be safely determined that owning a computer and television and the number of mobile phones in \n",
    "the household will provide a strong indicator of the income level, where as, number of tablets will not be as useful of\n",
    "an indicator."
   ]
  },
  {
   "cell_type": "code",
   "execution_count": 29,
   "metadata": {},
   "outputs": [
    {
     "name": "stderr",
     "output_type": "stream",
     "text": [
      "C:\\Users\\Cam\\Anaconda3\\lib\\site-packages\\scipy\\stats\\stats.py:1713: FutureWarning: Using a non-tuple sequence for multidimensional indexing is deprecated; use `arr[tuple(seq)]` instead of `arr[seq]`. In the future this will be interpreted as an array index, `arr[np.array(seq)]`, which will result either in an error or a different result.\n",
      "  return np.add.reduce(sorted[indexer] * weights, axis=axis) / sumval\n"
     ]
    },
    {
     "data": {
      "image/png": "[encoded data removed]",
      "text/plain": [
       "<Figure size 1080x1152 with 4 Axes>"
      ]
     },
     "metadata": {},
     "output_type": "display_data"
    }
   ],
   "source": [
    "\n",
    "plt.figure(figsize = (15,16))\n",
    "plt.subplot(2,2,1)\n",
    "sns.barplot(y=(train['computer']) * 100, x=train['Target']).set_xticklabels(\n",
    "    ('extreme poverty', 'moderate poverty', 'vulnerable households', 'non-vulnerable households'), rotation =15)\n",
    "\n",
    "plt.title('Percent of households that own a Computer')\n",
    "plt.xlabel('Poverty Indicator')\n",
    "plt.ylabel('')\n",
    "\n",
    "plt.subplot(2,2,2)\n",
    "sns.barplot(y=(train['television']) * 100, x=train['Target']).set_xticklabels(\n",
    "    ('extreme poverty', 'moderate poverty', 'vulnerable households', 'non-vulnerable households'), rotation =15)\n",
    "plt.tight_layout()\n",
    "plt.title('Percent of households that own a Television')\n",
    "plt.xlabel('Poverty Indicator')\n",
    "plt.ylabel('')\n",
    "\n",
    "plt.subplot(2,2,3)\n",
    "sns.violinplot(data=train, y='v18q1', x='Target').set_xticklabels(\n",
    "    ('extreme poverty', 'moderate poverty', 'vulnerable households', 'non-vulnerable households'), rotation =15)\n",
    "plt.title('Tablets Per Household')\n",
    "plt.xlabel('Poverty Indicator')\n",
    "plt.ylabel('')\n",
    "\n",
    "plt.subplot(2,2,4)\n",
    "sns.boxplot(data=train, y='qmobilephone', x='Target').set_xticklabels(\n",
    "    ('extreme poverty', 'moderate poverty', 'vulnerable households', 'non-vulnerable households'), rotation =15)\n",
    "plt.title('Mobile Phones Per Household')\n",
    "plt.xlabel('Poverty Indicator')\n",
    "plt.ylabel('')\n",
    "plt.tight_layout()\n"
   ]
  },
  {
   "cell_type": "markdown",
   "metadata": {},
   "source": [
    "### Wall Material By Income Level"
   ]
  },
  {
   "cell_type": "code",
   "execution_count": 29,
   "metadata": {},
   "outputs": [
    {
     "name": "stderr",
     "output_type": "stream",
     "text": [
      "C:\\Users\\Cam\\Anaconda3\\lib\\site-packages\\scipy\\stats\\stats.py:1713: FutureWarning: Using a non-tuple sequence for multidimensional indexing is deprecated; use `arr[tuple(seq)]` instead of `arr[seq]`. In the future this will be interpreted as an array index, `arr[np.array(seq)]`, which will result either in an error or a different result.\n",
      "  return np.add.reduce(sorted[indexer] * weights, axis=axis) / sumval\n"
     ]
    },
    {
     "data": {
      "text/plain": [
       "Text(811.294,0.5,'')"
      ]
     },
     "execution_count": 29,
     "metadata": {},
     "output_type": "execute_result"
    },
    {
     "data": {
      "image/png": "[encoded data removed]",
      "text/plain": [
       "<Figure size 1080x1800 with 8 Axes>"
      ]
     },
     "metadata": {},
     "output_type": "display_data"
    }
   ],
   "source": [
    "\n",
    "plt.figure(figsize = (15,25))\n",
    "plt.subplot(2,4,1)\n",
    "sns.barplot(y=train['paredblolad'] * 100, x=train['Target']).set_xticklabels(\n",
    "    ('extreme poverty', 'moderate poverty', 'vulnerable households', 'non-vulnerable households'), rotation =15)\n",
    "plt.tight_layout()\n",
    "plt.title('Block or Brick Walls')\n",
    "plt.xlabel('Poverty Indicator')\n",
    "plt.xlabel('')\n",
    "plt.ylabel('')\n",
    "\n",
    "plt.subplot(2,4,2)\n",
    "sns.barplot(y=train['paredzocalo'] * 100, x=train['Target']).set_xticklabels(\n",
    "    ('extreme poverty', 'moderate poverty', 'vulnerable households', 'non-vulnerable households'), rotation =15)\n",
    "plt.tight_layout()\n",
    "plt.title('Wood, Zinc or Asbestos Walls')\n",
    "plt.xlabel('Poverty Indicator')\n",
    "plt.xlabel('')\n",
    "plt.ylabel('')\n",
    "\n",
    "plt.subplot(2,4,3)\n",
    "sns.barplot(y=train['paredpreb'] * 100, x=train['Target']).set_xticklabels(\n",
    "    ('extreme poverty', 'moderate poverty', 'vulnerable households', 'non-vulnerable households'), rotation =15)\n",
    "plt.title('Prefabricated or Cement Walls')\n",
    "plt.xlabel('Poverty Indicator')\n",
    "plt.xlabel('')\n",
    "plt.ylabel('')\n",
    "\n",
    "plt.subplot(2,4,4)\n",
    "sns.barplot(y=train['pareddes'] * 100, x=train['Target']).set_xticklabels(\n",
    "    ('extreme poverty', 'moderate poverty', 'vulnerable households', 'non-vulnerable households'), rotation =15)\n",
    "plt.tight_layout()\n",
    "plt.title('Waste Material Walls')\n",
    "plt.xlabel('')\n",
    "plt.ylabel('')\n",
    "\n",
    "plt.subplot(2,4,5)\n",
    "sns.barplot(y=train['paredmad'] * 100, x=train['Target']).set_xticklabels(\n",
    "    ('extreme poverty', 'moderate poverty', 'vulnerable households', 'non-vulnerable households'), rotation =15)\n",
    "plt.tight_layout()\n",
    "plt.title('Wood Walls')\n",
    "plt.xlabel('Poverty Indicator')\n",
    "plt.xlabel('')\n",
    "plt.ylabel('')\n",
    "\n",
    "plt.subplot(2,4,6)\n",
    "sns.barplot(y=train['paredzinc'] * 100, x=train['Target']).set_xticklabels(\n",
    "    ('extreme poverty', 'moderate poverty', 'vulnerable households', 'non-vulnerable households'), rotation =15)\n",
    "plt.tight_layout()\n",
    "plt.title('Zinc Walls')\n",
    "plt.xlabel('Poverty Indicator')\n",
    "plt.xlabel('')\n",
    "plt.ylabel('')\n",
    "\n",
    "plt.subplot(2,4,7)\n",
    "sns.barplot(y=train['paredfibras'] * 100, x=train['Target']).set_xticklabels(\n",
    "    ('extreme poverty', 'moderate poverty', 'vulnerable households', 'non-vulnerable households'), rotation =15)\n",
    "plt.title('Natural Fiber Walls')\n",
    "plt.xlabel('Poverty Indicator')\n",
    "plt.xlabel('')\n",
    "plt.ylabel('')\n",
    "\n",
    "plt.subplot(2,4,8)\n",
    "sns.barplot(y=train['paredother'] * 100, x=train['Target']).set_xticklabels(\n",
    "    ('extreme poverty', 'moderate poverty', 'vulnerable households', 'non-vulnerable households'), rotation =15)\n",
    "plt.tight_layout()\n",
    "plt.title('Other Material Walls')\n",
    "plt.xlabel('')\n",
    "plt.ylabel('')\n"
   ]
  },
  {
   "cell_type": "markdown",
   "metadata": {},
   "source": [
    "From these plots we can see that the wall type will help provide a strong indicator of the income level."
   ]
  },
  {
   "cell_type": "markdown",
   "metadata": {},
   "source": [
    "### Floor Material By Income Level"
   ]
  },
  {
   "cell_type": "code",
   "execution_count": 30,
   "metadata": {},
   "outputs": [
    {
     "name": "stderr",
     "output_type": "stream",
     "text": [
      "C:\\Users\\Cam\\Anaconda3\\lib\\site-packages\\scipy\\stats\\stats.py:1713: FutureWarning: Using a non-tuple sequence for multidimensional indexing is deprecated; use `arr[tuple(seq)]` instead of `arr[seq]`. In the future this will be interpreted as an array index, `arr[np.array(seq)]`, which will result either in an error or a different result.\n",
      "  return np.add.reduce(sorted[indexer] * weights, axis=axis) / sumval\n"
     ]
    },
    {
     "data": {
      "text/plain": [
       "Text(859.577,0.5,'')"
      ]
     },
     "execution_count": 30,
     "metadata": {},
     "output_type": "execute_result"
    },
    {
     "data": {
      "image/png": "[encoded data removed]",
      "text/plain": [
       "<Figure size 1080x1080 with 4 Axes>"
      ]
     },
     "metadata": {},
     "output_type": "display_data"
    }
   ],
   "source": [
    "\n",
    "plt.figure(figsize = (15,15))\n",
    "plt.subplot(1,4,1)\n",
    "sns.barplot(y=train['pisomoscer'] * 100, x=train['Target']).set_xticklabels(\n",
    "    ('extreme poverty', 'moderate poverty', 'vulnerable households', 'non-vulnerable households'), rotation =15)\n",
    "plt.tight_layout()\n",
    "plt.title('Mosaic, Ceramic, or Terrazo Floor')\n",
    "plt.xlabel('Poverty Indicator')\n",
    "plt.xlabel('')\n",
    "plt.ylabel('')\n",
    "\n",
    "plt.subplot(1,4,2)\n",
    "sns.barplot(y=train['pisocemento'] * 100, x=train['Target']).set_xticklabels(\n",
    "    ('extreme poverty', 'moderate poverty', 'vulnerable households', 'non-vulnerable households'), rotation =15)\n",
    "plt.tight_layout()\n",
    "plt.title('Cement Floor')\n",
    "plt.xlabel('Poverty Indicator')\n",
    "plt.xlabel('')\n",
    "plt.ylabel('')\n",
    "\n",
    "plt.subplot(1,4,3)\n",
    "sns.barplot(y=train['pisonatur'] * 100, x=train['Target']).set_xticklabels(\n",
    "    ('extreme poverty', 'moderate poverty', 'vulnerable households', 'non-vulnerable households'), rotation =15)\n",
    "plt.tight_layout()\n",
    "plt.title('Natural Material Floor')\n",
    "plt.xlabel('')\n",
    "plt.ylabel('')\n",
    "\n",
    "plt.subplot(1,4,4)\n",
    "sns.barplot(y=train['pisonotiene'] * 100, x=train['Target']).set_xticklabels(\n",
    "    ('extreme poverty', 'moderate poverty', 'vulnerable households', 'non-vulnerable households'), rotation =15)\n",
    "plt.tight_layout()\n",
    "plt.title('No Floor')\n",
    "plt.xlabel('Poverty Indicator')\n",
    "plt.xlabel('')\n",
    "plt.ylabel('')\n"
   ]
  },
  {
   "cell_type": "markdown",
   "metadata": {},
   "source": [
    "From these plots we can see that the floor type will help provide a strong indicator of the income level."
   ]
  },
  {
   "cell_type": "markdown",
   "metadata": {},
   "source": [
    "### Roof Material By Income Level"
   ]
  },
  {
   "cell_type": "code",
   "execution_count": 31,
   "metadata": {},
   "outputs": [
    {
     "name": "stderr",
     "output_type": "stream",
     "text": [
      "C:\\Users\\Cam\\Anaconda3\\lib\\site-packages\\scipy\\stats\\stats.py:1713: FutureWarning: Using a non-tuple sequence for multidimensional indexing is deprecated; use `arr[tuple(seq)]` instead of `arr[seq]`. In the future this will be interpreted as an array index, `arr[np.array(seq)]`, which will result either in an error or a different result.\n",
      "  return np.add.reduce(sorted[indexer] * weights, axis=axis) / sumval\n"
     ]
    },
    {
     "data": {
      "text/plain": [
       "Text(852.122,0.5,'')"
      ]
     },
     "execution_count": 31,
     "metadata": {},
     "output_type": "execute_result"
    },
    {
     "data": {
      "image/png": "[encoded data removed]",
      "text/plain": [
       "<Figure size 1080x720 with 4 Axes>"
      ]
     },
     "metadata": {},
     "output_type": "display_data"
    }
   ],
   "source": [
    "\n",
    "plt.figure(figsize = (15,10))\n",
    "plt.subplot(1,4,1)\n",
    "sns.barplot(y=train['techozinc'] * 100, x=train['Target']).set_xticklabels(\n",
    "    ('extreme poverty', 'moderate poverty', 'vulnerable households', 'non-vulnerable households'), rotation =15)\n",
    "plt.tight_layout()\n",
    "plt.title('Metal Foil or Zink Roof')\n",
    "plt.xlabel('Poverty Indicator')\n",
    "plt.xlabel('')\n",
    "plt.ylabel('')\n",
    "\n",
    "plt.subplot(1,4,2)\n",
    "sns.barplot(y=train['techoentrepiso'] * 100, x=train['Target']).set_xticklabels(\n",
    "    ('extreme poverty', 'moderate poverty', 'vulnerable households', 'non-vulnerable households'), rotation =15)\n",
    "plt.tight_layout()\n",
    "plt.title('Fiber Cement or Mezzanine Roof')\n",
    "plt.xlabel('Poverty Indicator')\n",
    "plt.xlabel('')\n",
    "plt.ylabel('')\n",
    "\n",
    "plt.subplot(1,4,3)\n",
    "sns.barplot(y=train['techocane'] * 100, x=train['Target']).set_xticklabels(\n",
    "    ('extreme poverty', 'moderate poverty', 'vulnerable households', 'non-vulnerable households'), rotation =15)\n",
    "plt.tight_layout()\n",
    "plt.title('Natural Fiber Roof')\n",
    "plt.xlabel('')\n",
    "plt.ylabel('')\n",
    "\n",
    "plt.subplot(1,4,4)\n",
    "sns.barplot(y=train['techootro'] * 100, x=train['Target']).set_xticklabels(\n",
    "    ('extreme poverty', 'moderate poverty', 'vulnerable households', 'non-vulnerable households'), rotation =15)\n",
    "plt.tight_layout()\n",
    "plt.title('Other Roof')\n",
    "plt.xlabel('Poverty Indicator')\n",
    "plt.xlabel('')\n",
    "plt.ylabel('')\n"
   ]
  },
  {
   "cell_type": "markdown",
   "metadata": {},
   "source": [
    "Since there is such a strong majority of metal foil or zink roofs, this information is not very useful for determining income level."
   ]
  },
  {
   "cell_type": "markdown",
   "metadata": {},
   "source": [
    "### Water Supply By Income Level"
   ]
  },
  {
   "cell_type": "code",
   "execution_count": 32,
   "metadata": {},
   "outputs": [
    {
     "name": "stderr",
     "output_type": "stream",
     "text": [
      "C:\\Users\\Cam\\Anaconda3\\lib\\site-packages\\scipy\\stats\\stats.py:1713: FutureWarning: Using a non-tuple sequence for multidimensional indexing is deprecated; use `arr[tuple(seq)]` instead of `arr[seq]`. In the future this will be interpreted as an array index, `arr[np.array(seq)]`, which will result either in an error or a different result.\n",
      "  return np.add.reduce(sorted[indexer] * weights, axis=axis) / sumval\n"
     ]
    },
    {
     "data": {
      "text/plain": [
       "Text(735.94,0.5,'')"
      ]
     },
     "execution_count": 32,
     "metadata": {},
     "output_type": "execute_result"
    },
    {
     "data": {
      "image/png": "[encoded data removed]",
      "text/plain": [
       "<Figure size 1080x720 with 3 Axes>"
      ]
     },
     "metadata": {},
     "output_type": "display_data"
    }
   ],
   "source": [
    "\n",
    "plt.figure(figsize = (15,10))\n",
    "\n",
    "plt.subplot(1,3,1)\n",
    "sns.barplot(y=train['abastaguadentro'] * 100, x=train['Target']).set_xticklabels(\n",
    "    ('extreme poverty', 'moderate poverty', 'vulnerable households', 'non-vulnerable households'), rotation =15)\n",
    "plt.tight_layout()\n",
    "plt.title('Water Provision Inside the Dwelling')\n",
    "plt.xlabel('Poverty Indicator')\n",
    "plt.xlabel('')\n",
    "plt.ylabel('')\n",
    "\n",
    "plt.subplot(1,3,2)\n",
    "sns.barplot(y=train['abastaguafuera'] * 100, x=train['Target']).set_xticklabels(\n",
    "    ('extreme poverty', 'moderate poverty', 'vulnerable households', 'non-vulnerable households'), rotation =15)\n",
    "plt.tight_layout()\n",
    "plt.title('Water Provision Outside the Dwelling')\n",
    "plt.xlabel('Poverty Indicator')\n",
    "plt.xlabel('')\n",
    "plt.ylabel('')\n",
    "\n",
    "plt.subplot(1,3,3)\n",
    "sns.barplot(y=train['abastaguano'] * 100, x=train['Target']).set_xticklabels(\n",
    "    ('extreme poverty', 'moderate poverty', 'vulnerable households', 'non-vulnerable households'), rotation =15)\n",
    "plt.tight_layout()\n",
    "plt.title('No Water Provision')\n",
    "plt.xlabel('')\n",
    "plt.ylabel('')\n"
   ]
  },
  {
   "cell_type": "markdown",
   "metadata": {},
   "source": [
    "From these plots we can see that the water source will not provide a very usefull indicator of income level, as the vast majority of water comes from provisions inside the dwelling"
   ]
  },
  {
   "cell_type": "markdown",
   "metadata": {},
   "source": [
    "### Electricity Provider By Income "
   ]
  },
  {
   "cell_type": "code",
   "execution_count": 33,
   "metadata": {},
   "outputs": [
    {
     "name": "stderr",
     "output_type": "stream",
     "text": [
      "C:\\Users\\Cam\\Anaconda3\\lib\\site-packages\\scipy\\stats\\stats.py:1713: FutureWarning: Using a non-tuple sequence for multidimensional indexing is deprecated; use `arr[tuple(seq)]` instead of `arr[seq]`. In the future this will be interpreted as an array index, `arr[np.array(seq)]`, which will result either in an error or a different result.\n",
      "  return np.add.reduce(sorted[indexer] * weights, axis=axis) / sumval\n"
     ]
    },
    {
     "data": {
      "text/plain": [
       "Text(853.67,0.5,'')"
      ]
     },
     "execution_count": 33,
     "metadata": {},
     "output_type": "execute_result"
    },
    {
     "data": {
      "image/png": "[encoded data removed]",
      "text/plain": [
       "<Figure size 1080x720 with 4 Axes>"
      ]
     },
     "metadata": {},
     "output_type": "display_data"
    }
   ],
   "source": [
    "\n",
    "plt.figure(figsize = (15,10))\n",
    "plt.subplot(1,4,1)\n",
    "sns.barplot(y=train['public'] * 100, x=train['Target']).set_xticklabels(\n",
    "    ('extreme poverty', 'moderate poverty', 'vulnerable households', 'non-vulnerable households'), rotation =15)\n",
    "plt.tight_layout()\n",
    "plt.title('Electricity from CNFL, ICE, ESPH, or JASEC')\n",
    "plt.xlabel('Poverty Indicator')\n",
    "plt.xlabel('')\n",
    "plt.ylabel('')\n",
    "\n",
    "plt.subplot(1,4,2)\n",
    "sns.barplot(y=train['planpri'] * 100, x=train['Target']).set_xticklabels(\n",
    "    ('extreme poverty', 'moderate poverty', 'vulnerable households', 'non-vulnerable households'), rotation =15)\n",
    "plt.tight_layout()\n",
    "plt.title('')\n",
    "plt.xlabel('Electricity from Private Plant')\n",
    "plt.xlabel('')\n",
    "plt.ylabel('')\n",
    "\n",
    "plt.subplot(1,4,3)\n",
    "sns.barplot(y=train['coopele'] * 100, x=train['Target']).set_xticklabels(\n",
    "    ('extreme poverty', 'moderate poverty', 'vulnerable households', 'non-vulnerable households'), rotation =15)\n",
    "plt.tight_layout()\n",
    "plt.title('Electricity from a cooperative')\n",
    "plt.xlabel('')\n",
    "plt.ylabel('')\n",
    "\n",
    "plt.subplot(1,4,4)\n",
    "sns.barplot(y=train['noelec'] * 100, x=train['Target']).set_xticklabels(\n",
    "    ('extreme poverty', 'moderate poverty', 'vulnerable households', 'non-vulnerable households'), rotation =15)\n",
    "plt.tight_layout()\n",
    "plt.title('No Electricity')\n",
    "plt.xlabel('Poverty Indicator')\n",
    "plt.xlabel('')\n",
    "plt.ylabel('')\n"
   ]
  },
  {
   "cell_type": "markdown",
   "metadata": {},
   "source": [
    "From these plots we can see that electricity provider will not provide a valuable indicator of economic level, as there are no trends that can be seen between the different providers."
   ]
  },
  {
   "cell_type": "markdown",
   "metadata": {},
   "source": [
    "### Level of Education By Income Level"
   ]
  },
  {
   "cell_type": "code",
   "execution_count": 34,
   "metadata": {},
   "outputs": [
    {
     "name": "stderr",
     "output_type": "stream",
     "text": [
      "C:\\Users\\Cam\\Anaconda3\\lib\\site-packages\\scipy\\stats\\stats.py:1713: FutureWarning: Using a non-tuple sequence for multidimensional indexing is deprecated; use `arr[tuple(seq)]` instead of `arr[seq]`. In the future this will be interpreted as an array index, `arr[np.array(seq)]`, which will result either in an error or a different result.\n",
      "  return np.add.reduce(sorted[indexer] * weights, axis=axis) / sumval\n"
     ]
    },
    {
     "data": {
      "image/png": "[encoded data removed]",
      "text/plain": [
       "<Figure size 1080x1800 with 9 Axes>"
      ]
     },
     "metadata": {},
     "output_type": "display_data"
    }
   ],
   "source": [
    "\n",
    "plt.figure(figsize = (15,25))\n",
    "\n",
    "plt.subplot(3,3,1)\n",
    "sns.barplot(y=train['instlevel1'] * 100, x=train['Target']).set_xticklabels(\n",
    "    ('extreme poverty', 'moderate poverty', 'vulnerable households', 'non-vulnerable households'), rotation =15)\n",
    "plt.title('No Level of Education')\n",
    "plt.ylabel('')\n",
    "\n",
    "\n",
    "plt.subplot(3,3,2)\n",
    "sns.barplot(y=train['instlevel2'] * 100, x=train['Target']).set_xticklabels(\n",
    "    ('extreme poverty', 'moderate poverty', 'vulnerable households', 'non-vulnerable households'), rotation =15)\n",
    "plt.title('Incomplete Primary Education')\n",
    "plt.ylabel('')\n",
    "\n",
    "\n",
    "plt.subplot(3,3,3)\n",
    "sns.barplot(y=train['instlevel3'] * 100, x=train['Target']).set_xticklabels(\n",
    "    ('extreme poverty', 'moderate poverty', 'vulnerable households', 'non-vulnerable households'), rotation =15)\n",
    "plt.title('Complete Primary Education')\n",
    "plt.ylabel('')\n",
    "\n",
    "\n",
    "plt.subplot(3,3,4)\n",
    "sns.barplot(y=train['instlevel4'] * 100, x=train['Target']).set_xticklabels(\n",
    "    ('extreme poverty', 'moderate poverty', 'vulnerable households', 'non-vulnerable households'), rotation =15)\n",
    "plt.title('Complete Academic Secondary Education')\n",
    "plt.ylabel('')\n",
    "\n",
    "\n",
    "plt.subplot(3,3,5)\n",
    "sns.barplot(y=train['instlevel5'] * 100, x=train['Target']).set_xticklabels(\n",
    "    ('extreme poverty', 'moderate poverty', 'vulnerable households', 'non-vulnerable households'), rotation =15)\n",
    "plt.title('Complete Academic Secondary Education')\n",
    "plt.ylabel('')\n",
    "\n",
    "\n",
    "plt.subplot(3,3,6)\n",
    "sns.barplot(y=train['instlevel6'] * 100, x=train['Target']).set_xticklabels(\n",
    "    ('extreme poverty', 'moderate poverty', 'vulnerable households', 'non-vulnerable households'), rotation =15)\n",
    "plt.title('Incomplete Technical Secondary Level')\n",
    "plt.ylabel('')\n",
    "\n",
    "\n",
    "plt.subplot(3,3,7)\n",
    "sns.barplot(y=train['instlevel7'] * 100, x=train['Target']).set_xticklabels(\n",
    "    ('extreme poverty', 'moderate poverty', 'vulnerable households', 'non-vulnerable households'), rotation =15)\n",
    "plt.title('Complete Technical Secondary Level')\n",
    "plt.ylabel('')\n",
    "\n",
    "\n",
    "plt.subplot(3,3,8)\n",
    "sns.barplot(y=train['instlevel8'] * 100, x=train['Target']).set_xticklabels(\n",
    "    ('extreme poverty', 'moderate poverty', 'vulnerable households', 'non-vulnerable households'), rotation =15)\n",
    "plt.title('Undergraduate Higher Education')\n",
    "plt.ylabel('')\n",
    "\n",
    "\n",
    "plt.subplot(3,3,9)\n",
    "sns.barplot(y=train['instlevel9'] * 100, x=train['Target']).set_xticklabels(\n",
    "    ('extreme poverty', 'moderate poverty', 'vulnerable households', 'non-vulnerable households'), rotation =15)\n",
    "plt.title('Postgraduate Highter Education')\n",
    "plt.ylabel('')\n",
    "\n",
    "\n",
    "plt.tight_layout()"
   ]
  },
  {
   "cell_type": "markdown",
   "metadata": {},
   "source": [
    "From these graphs it is clear that education level is a strong indicator for income level."
   ]
  },
  {
   "cell_type": "markdown",
   "metadata": {},
   "source": [
    "### People Living in the Household By Rooms in House for each income level"
   ]
  },
  {
   "cell_type": "code",
   "execution_count": 35,
   "metadata": {},
   "outputs": [
    {
     "name": "stderr",
     "output_type": "stream",
     "text": [
      "C:\\Users\\Cam\\Anaconda3\\lib\\site-packages\\scipy\\stats\\stats.py:1713: FutureWarning: Using a non-tuple sequence for multidimensional indexing is deprecated; use `arr[tuple(seq)]` instead of `arr[seq]`. In the future this will be interpreted as an array index, `arr[np.array(seq)]`, which will result either in an error or a different result.\n",
      "  return np.add.reduce(sorted[indexer] * weights, axis=axis) / sumval\n"
     ]
    },
    {
     "data": {
      "text/plain": [
       "Text(25.2935,0.5,'Rooms in the household')"
      ]
     },
     "execution_count": 35,
     "metadata": {},
     "output_type": "execute_result"
    },
    {
     "data": {
      "image/png": "[encoded data removed]",
      "text/plain": [
       "<Figure size 402.375x360 with 1 Axes>"
      ]
     },
     "metadata": {},
     "output_type": "display_data"
    }
   ],
   "source": [
    "sns.lmplot(x = 'tamviv' , y='rooms', data = train, hue = 'Target', scatter=False)\n",
    "plt.xlabel('People living in the household')\n",
    "plt.ylabel('Rooms in the household')\n"
   ]
  },
  {
   "cell_type": "markdown",
   "metadata": {},
   "source": [
    "We can see from this visualization that higher income households have a higher positive correlation between number of rooms in the house and the number of people living there."
   ]
  },
  {
   "cell_type": "markdown",
   "metadata": {},
   "source": [
    "## EDA Conclusions"
   ]
  },
  {
   "cell_type": "markdown",
   "metadata": {},
   "source": [
    "From my exploration of the data I have concluded that the type of information about the households that can act as predictors of income level is not exactly what I would have expected it to be. Factors such as, owning a computer or a television and how many mobile phones the household has can provide insight into income, but surprisingly tablets owned by the household proved to be less revealing. The wall and floor material of the house can be useful for determining income level, but the roof material was less useful because, there was such a strong majority towards one material. The water source and electricity provider for the household, also proved to be not useful indicators as the water source and electricity provider had strong majorities for all income levels of one type. The highest level of education completed is a very useful indicator of income level, there are very visible trends present in this data. It can also be seen from the data that higher income houses were more likely to have a better ratio of people living in the household compared to the number of rooms present in the household. This analysis of the data tells me that important areas to focus on in my further analysis should be, number and ownership of technological devices (with the exception of tablets), wall material, roof material, education level, and the amount of rooms in the house divided by the number of people living there. "
   ]
  },
  {
   "cell_type": "markdown",
   "metadata": {},
   "source": [
    "# Statistical Analysis"
   ]
  },
  {
   "cell_type": "code",
   "execution_count": 36,
   "metadata": {},
   "outputs": [],
   "source": [
    "# Creating a function to check for correlation\n",
    "def pearson_r(x, y):\n",
    "    # Compute correlation matrix: corr_mat\n",
    "    corr_mat = np.corrcoef(x,y)\n",
    "\n",
    "    # Return entry [0,1]\n",
    "    return corr_mat[0,1]\n"
   ]
  },
  {
   "cell_type": "code",
   "execution_count": 37,
   "metadata": {},
   "outputs": [
    {
     "name": "stdout",
     "output_type": "stream",
     "text": [
      "-0.14788333636003465\n",
      "p-val = 0.0\n"
     ]
    }
   ],
   "source": [
    "# Checking for corelation between no education and need\n",
    "y=train['instlevel1'] \n",
    "x=train['Target']\n",
    "\n",
    "r_obs = pearson_r(x,y)\n",
    "\n",
    "print(r_obs)\n",
    "\n",
    "# Initializing permutation replicates\n",
    "perm_replicates = np.empty(10000)\n",
    "\n",
    "# Drawing replicates\n",
    "for i in range(10000):\n",
    "    # Permute measurments: \n",
    "    perm = np.random.permutation(x)\n",
    "\n",
    "    # Compute Pearson correlation\n",
    "    perm_replicates[i] = pearson_r(perm, y)\n",
    "\n",
    "# Compute p-value: p\n",
    "p = np.sum(perm_replicates <= r_obs)/len(perm_replicates)\n",
    "print('p-val =', p)"
   ]
  },
  {
   "cell_type": "markdown",
   "metadata": {},
   "source": [
    "Negative value shows that there is a correlation between having no education and being in more need. The very low p values shows that this is unlikely to have occured by chance."
   ]
  },
  {
   "cell_type": "code",
   "execution_count": 38,
   "metadata": {},
   "outputs": [
    {
     "name": "stdout",
     "output_type": "stream",
     "text": [
      "0.21435122056421005\n",
      "p-val = 0.0\n"
     ]
    }
   ],
   "source": [
    "#Checking for correlation between higher education completed and need\n",
    "y=train['instlevel8']\n",
    "x=train['Target']\n",
    "\n",
    "r_obs = pearson_r(x,y)\n",
    "print(r_obs)\n",
    "\n",
    "# Initialize permutation replicates\n",
    "perm_replicates = np.empty(10000)\n",
    "\n",
    "# Draw replicates\n",
    "for i in range(10000):\n",
    "    # Permute illiteracy measurments: \n",
    "    perm = np.random.permutation(x)\n",
    "\n",
    "    # Compute Pearson correlation\n",
    "    perm_replicates[i] = pearson_r(perm, y)\n",
    "\n",
    "# Compute p-value: p\n",
    "p = np.sum(perm_replicates >= r_obs)/len(perm_replicates)\n",
    "print('p-val =', p)"
   ]
  },
  {
   "cell_type": "markdown",
   "metadata": {},
   "source": [
    "Positive value shows that there is a correlation between having a college education and being in less need. The very low p values shows that this is unlikely to have occured by chance."
   ]
  },
  {
   "cell_type": "code",
   "execution_count": 39,
   "metadata": {},
   "outputs": [
    {
     "name": "stdout",
     "output_type": "stream",
     "text": [
      "0.2802843798663786\n",
      "p-val = 0.0\n"
     ]
    }
   ],
   "source": [
    "# Checking for correlation between Mosaic, Ceramic, or Terrazo Floor and need\n",
    "y=train['pisomoscer']\n",
    "x=train['Target']\n",
    "\n",
    "r_obs = pearson_r(x,y)\n",
    "print(r_obs)\n",
    "\n",
    "# Initialize permutation replicates\n",
    "perm_replicates = np.empty(10000)\n",
    "\n",
    "# Draw replicates\n",
    "for i in range(10000):\n",
    "    # Permute illiteracy measurments: \n",
    "    perm = np.random.permutation(x)\n",
    "\n",
    "    # Compute Pearson correlation\n",
    "    perm_replicates[i] = pearson_r(perm, y)\n",
    "\n",
    "# Compute p-value: p\n",
    "p = np.sum(perm_replicates >= r_obs)/len(perm_replicates)\n",
    "print('p-val =', p)\n"
   ]
  },
  {
   "cell_type": "markdown",
   "metadata": {},
   "source": [
    "The positive value shows that there is a correlation between having a Mosaic, Ceramic, or Terrazo floor and being in less need. The very low p values shows that this is unlikely to have occured by chance."
   ]
  },
  {
   "cell_type": "code",
   "execution_count": 40,
   "metadata": {},
   "outputs": [
    {
     "name": "stdout",
     "output_type": "stream",
     "text": [
      "-0.20543914557544027\n",
      "p-val = 0.0\n"
     ]
    }
   ],
   "source": [
    "# Checking for correlation between Cement Floor\n",
    "y=train['pisocemento'] \n",
    "x=train['Target']\n",
    "\n",
    "r_obs = pearson_r(x,y)\n",
    "print(r_obs)\n",
    "\n",
    "# Initialize permutation replicates\n",
    "perm_replicates = np.empty(10000)\n",
    "\n",
    "# Draw replicates\n",
    "for i in range(10000):\n",
    "    # Permute illiteracy measurments: \n",
    "    perm = np.random.permutation(x)\n",
    "\n",
    "    # Compute Pearson correlation\n",
    "    perm_replicates[i] = pearson_r(perm, y)\n",
    "\n",
    "# Compute p-value: p\n",
    "p = np.sum(perm_replicates <= r_obs)/len(perm_replicates)\n",
    "print('p-val =', p)\n"
   ]
  },
  {
   "cell_type": "markdown",
   "metadata": {},
   "source": [
    "The negative value shows that there is a correlation between having cement floor and being in more need. The very low p values shows that this is unlikely to have occured by chance."
   ]
  },
  {
   "cell_type": "code",
   "execution_count": 41,
   "metadata": {},
   "outputs": [
    {
     "name": "stdout",
     "output_type": "stream",
     "text": [
      "0.18311281130543267\n",
      "p-val = 0.0\n"
     ]
    }
   ],
   "source": [
    "# Checking for correlation between owning a computer and need\n",
    "y=train['computer'] \n",
    "x=train['Target']\n",
    "\n",
    "r_obs = pearson_r(x,y)\n",
    "print(r_obs)\n",
    "\n",
    "# Initialize permutation replicates\n",
    "perm_replicates = np.empty(10000)\n",
    "\n",
    "# Draw replicates\n",
    "for i in range(10000):\n",
    "    # Permute illiteracy measurments: \n",
    "    perm = np.random.permutation(x)\n",
    "\n",
    "    # Compute Pearson correlation\n",
    "    perm_replicates[i] = pearson_r(perm, y)\n",
    "\n",
    "# Compute p-value: p\n",
    "p = np.sum(perm_replicates >= r_obs)/len(perm_replicates)\n",
    "print('p-val =', p)\n"
   ]
  },
  {
   "cell_type": "markdown",
   "metadata": {},
   "source": [
    "The positive value shows that there is a correlation between having a computer and being in less need. The very low p values shows that this is unlikely to have occured by chance."
   ]
  },
  {
   "cell_type": "code",
   "execution_count": 42,
   "metadata": {},
   "outputs": [
    {
     "name": "stdout",
     "output_type": "stream",
     "text": [
      "0.157064993237781\n",
      "p-val = 0.0\n"
     ]
    }
   ],
   "source": [
    "# Checking for correlation between owning a television and need\n",
    "y=train['television'] \n",
    "x=train['Target']\n",
    "\n",
    "r_obs = pearson_r(x,y)\n",
    "print(r_obs)\n",
    "\n",
    "# Initialize permutation replicates\n",
    "perm_replicates = np.empty(10000)\n",
    "\n",
    "# Draw replicates\n",
    "for i in range(10000):\n",
    "    # Permute illiteracy measurments: \n",
    "    perm = np.random.permutation(x)\n",
    "\n",
    "    # Compute Pearson correlation\n",
    "    perm_replicates[i] = pearson_r(perm, y)\n",
    "\n",
    "# Compute p-value: p\n",
    "p = np.sum(perm_replicates >= r_obs)/len(perm_replicates)\n",
    "print('p-val =', p)\n"
   ]
  },
  {
   "cell_type": "markdown",
   "metadata": {},
   "source": [
    "The positive value shows that there is a correlation between having a television and being in less need. The very low p values shows that this is unlikely to have occured by chance."
   ]
  },
  {
   "cell_type": "markdown",
   "metadata": {},
   "source": [
    "## Statistical Analysis Conclusions\n",
    "The statistical analysis that I conducted has helped to reveal some of the columns that may be of interest for further study and ones that could be useful to my machine learning models"
   ]
  },
  {
   "cell_type": "markdown",
   "metadata": {},
   "source": [
    "# Machine Learning"
   ]
  },
  {
   "cell_type": "markdown",
   "metadata": {},
   "source": [
    "The next step I wanted to do was to test some machine learning techniques on this dataset to try to determine the most effective method. The scoring metric that was used for the competition was the macro f1-score, so that is the metric that I am going to try to optimize for."
   ]
  },
  {
   "cell_type": "code",
   "execution_count": 43,
   "metadata": {},
   "outputs": [],
   "source": [
    "# Performing the imports \n",
    "from sklearn.model_selection import train_test_split\n",
    "\n",
    "# Splitting the training data into training and testing sets\n",
    "X = train.drop(['Target','houseID'], axis=1)\n",
    "y = train['Target']\n",
    "\n",
    "X_train, X_test, y_train, y_test = train_test_split(X, y, test_size=0.3, random_state=123)"
   ]
  },
  {
   "cell_type": "markdown",
   "metadata": {},
   "source": [
    "### Random Forest\n",
    "The first machine learning method that I wanted to try was a random forest because, it is very versatile and lightweight, so it can give me a quick idea of what can be done with the data. "
   ]
  },
  {
   "cell_type": "code",
   "execution_count": 44,
   "metadata": {},
   "outputs": [
    {
     "name": "stderr",
     "output_type": "stream",
     "text": [
      "C:\\Users\\Cam\\Anaconda3\\lib\\site-packages\\sklearn\\ensemble\\weight_boosting.py:29: DeprecationWarning: numpy.core.umath_tests is an internal NumPy module and should not be imported. It will be removed in a future NumPy release.\n",
      "  from numpy.core.umath_tests import inner1d\n"
     ]
    },
    {
     "name": "stdout",
     "output_type": "stream",
     "text": [
      "[[ 157   18    1   47]\n",
      " [   9  384   10   65]\n",
      " [   1   15  251   92]\n",
      " [   2    4    3 1809]]\n",
      "\n",
      "\n",
      "             precision    recall  f1-score   support\n",
      "\n",
      "          1       0.93      0.70      0.80       223\n",
      "          2       0.91      0.82      0.86       468\n",
      "          3       0.95      0.70      0.80       359\n",
      "          4       0.90      1.00      0.94      1818\n",
      "\n",
      "avg / total       0.91      0.91      0.90      2868\n",
      "\n",
      "\n",
      "\n",
      "macro f1-score 0.8534501352127961\n"
     ]
    }
   ],
   "source": [
    "# Performing the imports \n",
    "from sklearn.ensemble import RandomForestClassifier\n",
    "from sklearn.metrics import confusion_matrix, classification_report, f1_score\n",
    "\n",
    "# Setting up the random forest\n",
    "rfc = RandomForestClassifier(n_estimators=500)\n",
    "\n",
    "# Fitting a random forest to the data\n",
    "rfc.fit(X_train, y_train)\n",
    "\n",
    "# Predicting\n",
    "pred = rfc.predict(X_test)\n",
    "\n",
    "# Evaluating the model\n",
    "print(confusion_matrix(y_test, pred))\n",
    "print('\\n')\n",
    "print(classification_report(y_test, pred))\n",
    "print('\\n')\n",
    "print('macro f1-score {}'.format(f1_score(y_test, pred, average='macro')))"
   ]
  },
  {
   "cell_type": "markdown",
   "metadata": {},
   "source": [
    "Without doing anything to the data we can see that the random forest gives us a respectable average f1-score on the data of 0.85.  We will be looking for ways to improve this score as we continue."
   ]
  },
  {
   "cell_type": "markdown",
   "metadata": {},
   "source": [
    "### Support Vector Machine\n",
    "The next technique that I wanted to try was using a support vector machine. Since the classification problem is categorical in nature this method seems appropriate to try. Before giving the data to the support vector machine I will need to scale it to prevent columns with a larger range from dominating other columns. I will be using a pipeline to scale the data and fit/predict with the model in one step."
   ]
  },
  {
   "cell_type": "code",
   "execution_count": 45,
   "metadata": {},
   "outputs": [
    {
     "name": "stdout",
     "output_type": "stream",
     "text": [
      "[[  77   43    1  102]\n",
      " [   6  245    2  215]\n",
      " [   5   43   67  244]\n",
      " [   0   24    0 1794]]\n",
      "\n",
      "\n",
      "             precision    recall  f1-score   support\n",
      "\n",
      "          1       0.88      0.35      0.50       223\n",
      "          2       0.69      0.52      0.60       468\n",
      "          3       0.96      0.19      0.31       359\n",
      "          4       0.76      0.99      0.86      1818\n",
      "\n",
      "avg / total       0.78      0.76      0.72      2868\n",
      "\n",
      "\n",
      "\n",
      "macro f1-score 0.5656817478480233\n"
     ]
    }
   ],
   "source": [
    "# Perform the necessary imports\n",
    "from sklearn.preprocessing import StandardScaler\n",
    "from sklearn.pipeline import Pipeline\n",
    "from sklearn.svm import SVC\n",
    "\n",
    "\n",
    "# Creating a pipeline \n",
    "svcpl = Pipeline([\n",
    "    ('scale', StandardScaler()),\n",
    "    ('clf', SVC())\n",
    "    ])\n",
    "\n",
    "# Fitting model to scaled data\n",
    "svcpl.fit(X_train, y_train)\n",
    "\n",
    "# Predicting\n",
    "pred2 = svcpl.predict(X_test)\n",
    "\n",
    "# Evaluating the model\n",
    "print(confusion_matrix(y_test, pred2))\n",
    "print('\\n')\n",
    "print(classification_report(y_test, pred2))\n",
    "print('\\n')\n",
    "print('macro f1-score {}'.format(f1_score(y_test, pred2, average='macro')))"
   ]
  },
  {
   "cell_type": "markdown",
   "metadata": {},
   "source": [
    "Running the support vector machine with the default parameters gave me a bad f1-score. The next step was to use a grid search to look for the optimal parameters to see if we could improve on that score."
   ]
  },
  {
   "cell_type": "code",
   "execution_count": 46,
   "metadata": {},
   "outputs": [
    {
     "name": "stdout",
     "output_type": "stream",
     "text": [
      "Fitting 3 folds for each of 25 candidates, totalling 75 fits\n",
      "[CV] C=0.1, gamma=0.1 ................................................\n",
      "[CV] ....... C=0.1, gamma=0.1, score=0.6241039426523297, total=   7.4s\n",
      "[CV] C=0.1, gamma=0.1 ................................................\n"
     ]
    },
    {
     "name": "stderr",
     "output_type": "stream",
     "text": [
      "[Parallel(n_jobs=1)]: Done   1 out of   1 | elapsed:   10.5s remaining:    0.0s\n"
     ]
    },
    {
     "name": "stdout",
     "output_type": "stream",
     "text": [
      "[CV] ....... C=0.1, gamma=0.1, score=0.6249439210408255, total=   7.4s\n",
      "[CV] C=0.1, gamma=0.1 ................................................\n"
     ]
    },
    {
     "name": "stderr",
     "output_type": "stream",
     "text": [
      "[Parallel(n_jobs=1)]: Done   2 out of   2 | elapsed:   21.0s remaining:    0.0s\n"
     ]
    },
    {
     "name": "stdout",
     "output_type": "stream",
     "text": [
      "[CV] ....... C=0.1, gamma=0.1, score=0.6247755834829444, total=   7.6s\n",
      "[CV] C=0.1, gamma=1 ..................................................\n",
      "[CV] ......... C=0.1, gamma=1, score=0.6241039426523297, total=   7.4s\n",
      "[CV] C=0.1, gamma=1 ..................................................\n",
      "[CV] ......... C=0.1, gamma=1, score=0.6249439210408255, total=   7.5s\n",
      "[CV] C=0.1, gamma=1 ..................................................\n",
      "[CV] ......... C=0.1, gamma=1, score=0.6247755834829444, total=   7.7s\n",
      "[CV] C=0.1, gamma=0.01 ...............................................\n",
      "[CV] ...... C=0.1, gamma=0.01, score=0.6241039426523297, total=   4.4s\n",
      "[CV] C=0.1, gamma=0.01 ...............................................\n",
      "[CV] ...... C=0.1, gamma=0.01, score=0.6249439210408255, total=   4.6s\n",
      "[CV] C=0.1, gamma=0.01 ...............................................\n",
      "[CV] ...... C=0.1, gamma=0.01, score=0.6247755834829444, total=   4.4s\n",
      "[CV] C=0.1, gamma=0.001 ..............................................\n",
      "[CV] ..... C=0.1, gamma=0.001, score=0.6241039426523297, total=   3.8s\n",
      "[CV] C=0.1, gamma=0.001 ..............................................\n",
      "[CV] ..... C=0.1, gamma=0.001, score=0.6262898160610139, total=   3.9s\n",
      "[CV] C=0.1, gamma=0.001 ..............................................\n",
      "[CV] ..... C=0.1, gamma=0.001, score=0.6261220825852782, total=   3.9s\n",
      "[CV] C=0.1, gamma=0.0001 .............................................\n",
      "[CV] .... C=0.1, gamma=0.0001, score=0.6241039426523297, total=   4.1s\n",
      "[CV] C=0.1, gamma=0.0001 .............................................\n",
      "[CV] .... C=0.1, gamma=0.0001, score=0.6249439210408255, total=   3.8s\n",
      "[CV] C=0.1, gamma=0.0001 .............................................\n",
      "[CV] .... C=0.1, gamma=0.0001, score=0.6247755834829444, total=   4.0s\n",
      "[CV] C=1, gamma=0.1 ..................................................\n",
      "[CV] ......... C=1, gamma=0.1, score=0.6402329749103942, total=   7.5s\n",
      "[CV] C=1, gamma=0.1 ..................................................\n",
      "[CV] ......... C=1, gamma=0.1, score=0.6410946612830866, total=   7.5s\n",
      "[CV] C=1, gamma=0.1 ..................................................\n",
      "[CV] ......... C=1, gamma=0.1, score=0.6413824057450629, total=   8.9s\n",
      "[CV] C=1, gamma=1 ....................................................\n",
      "[CV] ........... C=1, gamma=1, score=0.6384408602150538, total=   8.4s\n",
      "[CV] C=1, gamma=1 ....................................................\n",
      "[CV] ........... C=1, gamma=1, score=0.6375056078959175, total=   8.3s\n",
      "[CV] C=1, gamma=1 ....................................................\n",
      "[CV] ........... C=1, gamma=1, score=0.6395870736086176, total=   8.1s\n",
      "[CV] C=1, gamma=0.01 .................................................\n",
      "[CV] ........ C=1, gamma=0.01, score=0.7414874551971327, total=   4.6s\n",
      "[CV] C=1, gamma=0.01 .................................................\n",
      "[CV] ........ C=1, gamma=0.01, score=0.7344100493494841, total=   5.1s\n",
      "[CV] C=1, gamma=0.01 .................................................\n",
      "[CV] ........ C=1, gamma=0.01, score=0.7342908438061041, total=   6.1s\n",
      "[CV] C=1, gamma=0.001 ................................................\n",
      "[CV] ....... C=1, gamma=0.001, score=0.6675627240143369, total=   4.1s\n",
      "[CV] C=1, gamma=0.001 ................................................\n",
      "[CV] ....... C=1, gamma=0.001, score=0.6527590847913862, total=   3.8s\n",
      "[CV] C=1, gamma=0.001 ................................................\n",
      "[CV] ....... C=1, gamma=0.001, score=0.6602333931777379, total=   3.6s\n",
      "[CV] C=1, gamma=0.0001 ...............................................\n",
      "[CV] ...... C=1, gamma=0.0001, score=0.6258960573476703, total=   3.8s\n",
      "[CV] C=1, gamma=0.0001 ...............................................\n",
      "[CV] ...... C=1, gamma=0.0001, score=0.6271870794078062, total=   3.8s\n",
      "[CV] C=1, gamma=0.0001 ...............................................\n",
      "[CV] ...... C=1, gamma=0.0001, score=0.6310592459605027, total=   3.7s\n",
      "[CV] C=10, gamma=0.1 .................................................\n",
      "[CV] ........ C=10, gamma=0.1, score=0.6514336917562724, total=   9.3s\n",
      "[CV] C=10, gamma=0.1 .................................................\n",
      "[CV] ........ C=10, gamma=0.1, score=0.6509645580978017, total=   8.9s\n",
      "[CV] C=10, gamma=0.1 .................................................\n",
      "[CV] ........ C=10, gamma=0.1, score=0.6499102333931778, total=   8.7s\n",
      "[CV] C=10, gamma=1 ...................................................\n",
      "[CV] .......... C=10, gamma=1, score=0.6388888888888888, total=   8.3s\n",
      "[CV] C=10, gamma=1 ...................................................\n",
      "[CV] .......... C=10, gamma=1, score=0.6379542395693136, total=   8.7s\n",
      "[CV] C=10, gamma=1 ...................................................\n",
      "[CV] .......... C=10, gamma=1, score=0.6395870736086176, total=   9.7s\n",
      "[CV] C=10, gamma=0.01 ................................................\n",
      "[CV] ........ C=10, gamma=0.01, score=0.807347670250896, total=   6.1s\n",
      "[CV] C=10, gamma=0.01 ................................................\n",
      "[CV] ....... C=10, gamma=0.01, score=0.8052938537460744, total=   5.8s\n",
      "[CV] C=10, gamma=0.01 ................................................\n",
      "[CV] ....... C=10, gamma=0.01, score=0.8052064631956912, total=   6.2s\n",
      "[CV] C=10, gamma=0.001 ...............................................\n",
      "[CV] ...... C=10, gamma=0.001, score=0.7083333333333334, total=   3.7s\n",
      "[CV] C=10, gamma=0.001 ...............................................\n",
      "[CV] ...... C=10, gamma=0.001, score=0.7115298340062809, total=   3.9s\n",
      "[CV] C=10, gamma=0.001 ...............................................\n",
      "[CV] ...... C=10, gamma=0.001, score=0.7105026929982047, total=   3.8s\n",
      "[CV] C=10, gamma=0.0001 ..............................................\n",
      "[CV] ...... C=10, gamma=0.0001, score=0.668010752688172, total=   3.8s\n",
      "[CV] C=10, gamma=0.0001 ..............................................\n",
      "[CV] ..... C=10, gamma=0.0001, score=0.6523104531179902, total=   3.7s\n",
      "[CV] C=10, gamma=0.0001 ..............................................\n",
      "[CV] ..... C=10, gamma=0.0001, score=0.6602333931777379, total=   3.6s\n",
      "[CV] C=100, gamma=0.1 ................................................\n",
      "[CV] ....... C=100, gamma=0.1, score=0.6514336917562724, total=   8.5s\n",
      "[CV] C=100, gamma=0.1 ................................................\n",
      "[CV] ....... C=100, gamma=0.1, score=0.6509645580978017, total=   8.3s\n",
      "[CV] C=100, gamma=0.1 ................................................\n",
      "[CV] ....... C=100, gamma=0.1, score=0.6499102333931778, total=   8.0s\n",
      "[CV] C=100, gamma=1 ..................................................\n",
      "[CV] ......... C=100, gamma=1, score=0.6388888888888888, total=   8.8s\n",
      "[CV] C=100, gamma=1 ..................................................\n",
      "[CV] ......... C=100, gamma=1, score=0.6379542395693136, total=   8.0s\n",
      "[CV] C=100, gamma=1 ..................................................\n",
      "[CV] ......... C=100, gamma=1, score=0.6395870736086176, total=   8.4s\n",
      "[CV] C=100, gamma=0.01 ...............................................\n",
      "[CV] ....... C=100, gamma=0.01, score=0.796146953405018, total=   6.1s\n",
      "[CV] C=100, gamma=0.01 ...............................................\n",
      "[CV] ...... C=100, gamma=0.01, score=0.8017048003589053, total=   6.7s\n",
      "[CV] C=100, gamma=0.01 ...............................................\n",
      "[CV] ...... C=100, gamma=0.01, score=0.8043087971274686, total=   7.2s\n",
      "[CV] C=100, gamma=0.001 ..............................................\n",
      "[CV] ..... C=100, gamma=0.001, score=0.7737455197132617, total=   5.7s\n",
      "[CV] C=100, gamma=0.001 ..............................................\n",
      "[CV] ..... C=100, gamma=0.001, score=0.7716464782413638, total=   5.3s\n",
      "[CV] C=100, gamma=0.001 ..............................................\n",
      "[CV] ..... C=100, gamma=0.001, score=0.7675044883303411, total=   4.4s\n",
      "[CV] C=100, gamma=0.0001 .............................................\n",
      "[CV] ..... C=100, gamma=0.0001, score=0.682347670250896, total=   3.6s\n",
      "[CV] C=100, gamma=0.0001 .............................................\n",
      "[CV] ..... C=100, gamma=0.0001, score=0.670704351727232, total=   3.7s\n",
      "[CV] C=100, gamma=0.0001 .............................................\n",
      "[CV] .... C=100, gamma=0.0001, score=0.6736983842010772, total=   3.5s\n",
      "[CV] C=1000, gamma=0.1 ...............................................\n"
     ]
    },
    {
     "name": "stdout",
     "output_type": "stream",
     "text": [
      "[CV] ...... C=1000, gamma=0.1, score=0.6514336917562724, total=   7.9s\n",
      "[CV] C=1000, gamma=0.1 ...............................................\n",
      "[CV] ...... C=1000, gamma=0.1, score=0.6509645580978017, total=   7.8s\n",
      "[CV] C=1000, gamma=0.1 ...............................................\n",
      "[CV] ...... C=1000, gamma=0.1, score=0.6499102333931778, total=   7.9s\n",
      "[CV] C=1000, gamma=1 .................................................\n",
      "[CV] ........ C=1000, gamma=1, score=0.6388888888888888, total=   8.1s\n",
      "[CV] C=1000, gamma=1 .................................................\n",
      "[CV] ........ C=1000, gamma=1, score=0.6379542395693136, total=   8.0s\n",
      "[CV] C=1000, gamma=1 .................................................\n",
      "[CV] ........ C=1000, gamma=1, score=0.6395870736086176, total=   8.1s\n",
      "[CV] C=1000, gamma=0.01 ..............................................\n",
      "[CV] ...... C=1000, gamma=0.01, score=0.796146953405018, total=   6.0s\n",
      "[CV] C=1000, gamma=0.01 ..............................................\n",
      "[CV] ..... C=1000, gamma=0.01, score=0.8017048003589053, total=   6.0s\n",
      "[CV] C=1000, gamma=0.01 ..............................................\n",
      "[CV] ..... C=1000, gamma=0.01, score=0.8038599640933572, total=   6.0s\n",
      "[CV] C=1000, gamma=0.001 .............................................\n",
      "[CV] .... C=1000, gamma=0.001, score=0.7553763440860215, total=   6.4s\n",
      "[CV] C=1000, gamma=0.001 .............................................\n",
      "[CV] .... C=1000, gamma=0.001, score=0.7523553162853297, total=   6.5s\n",
      "[CV] C=1000, gamma=0.001 .............................................\n",
      "[CV] .... C=1000, gamma=0.001, score=0.7526929982046678, total=   6.2s\n",
      "[CV] C=1000, gamma=0.0001 ............................................\n",
      "[CV] .... C=1000, gamma=0.0001, score=0.714605734767025, total=   4.9s\n",
      "[CV] C=1000, gamma=0.0001 ............................................\n",
      "[CV] ... C=1000, gamma=0.0001, score=0.7155675190668461, total=   4.9s\n",
      "[CV] C=1000, gamma=0.0001 ............................................\n",
      "[CV] ... C=1000, gamma=0.0001, score=0.7140933572710951, total=   4.8s\n"
     ]
    },
    {
     "name": "stderr",
     "output_type": "stream",
     "text": [
      "[Parallel(n_jobs=1)]: Done  75 out of  75 | elapsed: 10.8min finished\n"
     ]
    },
    {
     "data": {
      "text/plain": [
       "GridSearchCV(cv=None, error_score='raise',\n",
       "       estimator=SVC(C=1.0, cache_size=200, class_weight=None, coef0=0.0,\n",
       "  decision_function_shape='ovr', degree=3, gamma='auto', kernel='rbf',\n",
       "  max_iter=-1, probability=False, random_state=None, shrinking=True,\n",
       "  tol=0.001, verbose=False),\n",
       "       fit_params=None, iid=True, n_jobs=1,\n",
       "       param_grid={'C': [0.1, 1, 10, 100, 1000], 'gamma': [0.1, 1, 0.01, 0.001, 0.0001]},\n",
       "       pre_dispatch='2*n_jobs', refit=True, return_train_score='warn',\n",
       "       scoring=None, verbose=3)"
      ]
     },
     "execution_count": 46,
     "metadata": {},
     "output_type": "execute_result"
    }
   ],
   "source": [
    "# Importing grid search\n",
    "from sklearn.model_selection import GridSearchCV\n",
    "\n",
    "# Setting up grid search to find the ideal C and gamma\n",
    "param_grid = {'C':[0.1,1,10,100,1000], 'gamma':[.1,1,.01,.001,.0001]}\n",
    "\n",
    "# Scaling the data\n",
    "scaler = StandardScaler()\n",
    "scaled = scaler.fit_transform(X_train)\n",
    "grid = GridSearchCV(SVC(), param_grid, verbose=3)\n",
    "\n",
    "# Fitting the grid search\n",
    "grid.fit(scaled, y_train)"
   ]
  },
  {
   "cell_type": "code",
   "execution_count": 47,
   "metadata": {},
   "outputs": [
    {
     "data": {
      "text/plain": [
       "{'C': 10, 'gamma': 0.01}"
      ]
     },
     "execution_count": 47,
     "metadata": {},
     "output_type": "execute_result"
    }
   ],
   "source": [
    "# Printing the best parameters\n",
    "grid.best_params_"
   ]
  },
  {
   "cell_type": "code",
   "execution_count": 48,
   "metadata": {},
   "outputs": [
    {
     "name": "stdout",
     "output_type": "stream",
     "text": [
      "[[ 137   29   11   46]\n",
      " [  19  355   19   75]\n",
      " [   9   36  213  101]\n",
      " [   5   26   35 1752]]\n",
      "\n",
      "\n",
      "             precision    recall  f1-score   support\n",
      "\n",
      "          1       0.81      0.61      0.70       223\n",
      "          2       0.80      0.76      0.78       468\n",
      "          3       0.77      0.59      0.67       359\n",
      "          4       0.89      0.96      0.92      1818\n",
      "\n",
      "avg / total       0.85      0.86      0.85      2868\n",
      "\n",
      "\n",
      "\n",
      "macro f1-score 0.7667041784952975\n"
     ]
    }
   ],
   "source": [
    "# Creating a pipeline with best params\n",
    "svcploptimal = Pipeline([\n",
    "    ('scale', StandardScaler()),\n",
    "    ('clf', SVC(C=10, gamma=0.01))\n",
    "    ])\n",
    "\n",
    "# Fitting model to scaled data\n",
    "svcploptimal.fit(X_train, y_train)\n",
    "\n",
    "# Predicting\n",
    "pred3 = svcploptimal.predict(X_test)\n",
    "\n",
    "# Evaluating the model\n",
    "print(confusion_matrix(y_test, pred3))\n",
    "print('\\n')\n",
    "print(classification_report(y_test, pred3))\n",
    "print('\\n')\n",
    "print('macro f1-score {}'.format(f1_score(y_test, pred3, average='macro')))"
   ]
  },
  {
   "cell_type": "markdown",
   "metadata": {},
   "source": [
    "Using the optimal parameters appears to have resulted in only a minor improvement in this case. Even with these optimal parameters the support vector machine is outperformed by the random forest."
   ]
  },
  {
   "cell_type": "markdown",
   "metadata": {},
   "source": [
    "### K-Nearest Neighbors\n",
    "Since the support vector machine worked alright on the data the next thing that I wanted to try out was K nearest neighbors. Like the SVM, this algorithm performs better with the scaled data. As a result, I will be creating another pipeline.\n"
   ]
  },
  {
   "cell_type": "code",
   "execution_count": 49,
   "metadata": {},
   "outputs": [
    {
     "name": "stdout",
     "output_type": "stream",
     "text": [
      "[[ 110   24   14   75]\n",
      " [  15  272   19  162]\n",
      " [  15   49  147  148]\n",
      " [  20   74   58 1666]]\n",
      "\n",
      "\n",
      "             precision    recall  f1-score   support\n",
      "\n",
      "          1       0.69      0.49      0.57       223\n",
      "          2       0.65      0.58      0.61       468\n",
      "          3       0.62      0.41      0.49       359\n",
      "          4       0.81      0.92      0.86      1818\n",
      "\n",
      "avg / total       0.75      0.77      0.75      2868\n",
      "\n",
      "\n",
      "\n",
      "macro f1-score 0.6353456398089043\n"
     ]
    }
   ],
   "source": [
    "# Importing libraries\n",
    "from sklearn.neighbors import KNeighborsClassifier\n",
    "\n",
    "# Creating a pipeline\n",
    "knnpl = Pipeline([\n",
    "    ('scale', StandardScaler()),\n",
    "    ('clf', KNeighborsClassifier())\n",
    "    ])\n",
    "\n",
    "# Fitting model to scaled data\n",
    "knnpl.fit(X_train, y_train)\n",
    "\n",
    "# Predicting\n",
    "pred4 = knnpl.predict(X_test)\n",
    "\n",
    "# Evaluating the model\n",
    "print(confusion_matrix(y_test, pred4))\n",
    "print('\\n')\n",
    "print(classification_report(y_test, pred4))\n",
    "print('\\n')\n",
    "print('macro f1-score {}'.format(f1_score(y_test, pred4, average='macro')))"
   ]
  },
  {
   "cell_type": "markdown",
   "metadata": {},
   "source": [
    "Running the K nearest neighbors with default parameters gave me a f1-score that is not very good. The next step was to search for the optimal K value to see if we could improve on that score."
   ]
  },
  {
   "cell_type": "code",
   "execution_count": 50,
   "metadata": {},
   "outputs": [],
   "source": [
    "# Scaling the data \n",
    "scaler = StandardScaler()\n",
    "scaled_train = scaler.fit_transform(X_train)\n",
    "scaled_test = scaler.fit_transform(X_test)\n",
    "\n",
    "# Elbow method for finding best k value\n",
    "error_rate = []\n",
    "\n",
    "for i in range(1,20):\n",
    "    knn = KNeighborsClassifier(n_neighbors=i)\n",
    "    knn.fit(scaled_train, y_train)\n",
    "    pred_i = knn.predict(scaled_test)\n",
    "    error_rate.append(np.mean(f1_score(y_test, pred_i, average=\"macro\")))"
   ]
  },
  {
   "cell_type": "code",
   "execution_count": 51,
   "metadata": {},
   "outputs": [
    {
     "data": {
      "text/plain": [
       "Text(0,0.5,'f1-score')"
      ]
     },
     "execution_count": 51,
     "metadata": {},
     "output_type": "execute_result"
    },
    {
     "data": {
      "image/png": "[encoded data removed]",
      "text/plain": [
       "<Figure size 720x432 with 1 Axes>"
      ]
     },
     "metadata": {},
     "output_type": "display_data"
    }
   ],
   "source": [
    "# Plotting the K values\n",
    "plt.figure(figsize=(10,6))\n",
    "plt.plot(range(1,20), error_rate, color= 'blue', linestyle = 'dashed', \n",
    "         marker  = 'o', markerfacecolor = 'red', markersize=10)\n",
    "plt.title('f1-score vs K value')\n",
    "plt.xlabel('K')\n",
    "plt.ylabel('f1-score')"
   ]
  },
  {
   "cell_type": "code",
   "execution_count": 52,
   "metadata": {},
   "outputs": [
    {
     "name": "stdout",
     "output_type": "stream",
     "text": [
      "[[ 139   29    9   46]\n",
      " [  24  331   27   86]\n",
      " [  16   34  219   90]\n",
      " [  36   75   91 1616]]\n",
      "\n",
      "\n",
      "             precision    recall  f1-score   support\n",
      "\n",
      "          1       0.65      0.62      0.63       223\n",
      "          2       0.71      0.71      0.71       468\n",
      "          3       0.63      0.61      0.62       359\n",
      "          4       0.88      0.89      0.88      1818\n",
      "\n",
      "avg / total       0.80      0.80      0.80      2868\n",
      "\n",
      "\n",
      "\n",
      "macro f1-score 0.7116290472595159\n"
     ]
    }
   ],
   "source": [
    "# Creating a pipeline with optimal K\n",
    "knnploptimal = Pipeline([\n",
    "    ('scale', StandardScaler()),\n",
    "    ('clf', KNeighborsClassifier(n_neighbors=1))\n",
    "    ])\n",
    "\n",
    "# Fitting model to scaled data\n",
    "knnploptimal.fit(X_train, y_train)\n",
    "\n",
    "# Predicting\n",
    "pred5 = knnploptimal.predict(X_test)\n",
    "\n",
    "# Evaluating the model\n",
    "print(confusion_matrix(y_test, pred5))\n",
    "print('\\n')\n",
    "print(classification_report(y_test, pred5))\n",
    "print('\\n')\n",
    "print('macro f1-score {}'.format(f1_score(y_test, pred5, average='macro')))"
   ]
  },
  {
   "cell_type": "markdown",
   "metadata": {},
   "source": [
    "Using the optimal K value resulted in a minor improvement in this case, but even with the optimal K value this model does not appear to be particularly useful for this problem. "
   ]
  },
  {
   "cell_type": "markdown",
   "metadata": {},
   "source": [
    "### Logistic Regression\n",
    "The next algorithm that I wanted to try was logistic regression. Like KNN and SVM, this algorithm performs better with the data scaled, so I will be creating another pipeline."
   ]
  },
  {
   "cell_type": "code",
   "execution_count": 53,
   "metadata": {},
   "outputs": [
    {
     "name": "stdout",
     "output_type": "stream",
     "text": [
      "[[  48   32   24    8]\n",
      " [  84  185   58   83]\n",
      " [   5   25   40   25]\n",
      " [  86  226  237 1702]]\n",
      "\n",
      "\n",
      "             precision    recall  f1-score   support\n",
      "\n",
      "          1       0.22      0.43      0.29       112\n",
      "          2       0.40      0.45      0.42       410\n",
      "          3       0.11      0.42      0.18        95\n",
      "          4       0.94      0.76      0.84      2251\n",
      "\n",
      "avg / total       0.80      0.69      0.73      2868\n",
      "\n",
      "\n",
      "\n",
      "macro f1-score 0.43019002505601855\n"
     ]
    }
   ],
   "source": [
    "from sklearn.linear_model import LogisticRegression\n",
    "from sklearn.multiclass import OneVsRestClassifier\n",
    "\n",
    "logpl = Pipeline([\n",
    "    ('scaler', StandardScaler()),\n",
    "    ('clf', OneVsRestClassifier(LogisticRegression()))\n",
    "    ])\n",
    "\n",
    "# Fitting model to scaled data\n",
    "logpl.fit(X_train, y_train)\n",
    "\n",
    "# Predicting\n",
    "pred6 = logpl.predict(X_test)\n",
    "\n",
    "# Evaluating the model\n",
    "print(confusion_matrix(pred6, y_test))\n",
    "print('\\n')\n",
    "print(classification_report(pred6,y_test))\n",
    "print('\\n')\n",
    "print('macro f1-score {}'.format(f1_score(y_test, pred6, average='macro')))"
   ]
  },
  {
   "cell_type": "markdown",
   "metadata": {},
   "source": [
    "The logistic regression solution gave me a very poor macro f1-score, so it will not be very useful for this data."
   ]
  },
  {
   "cell_type": "markdown",
   "metadata": {},
   "source": [
    "## Oversampling\n",
    "The next thing that I wanted to try was to see if I could use data manipulation techniques to improve the accuracy of these machine learning algorithms. I noticed that the majority of the data was in the 4 column and I decided to use oversampling to make it so that the other columns are better represented to try to improve accuracy."
   ]
  },
  {
   "cell_type": "code",
   "execution_count": 54,
   "metadata": {},
   "outputs": [
    {
     "data": {
      "text/plain": [
       "<matplotlib.axes._subplots.AxesSubplot at 0x21cacb78f60>"
      ]
     },
     "execution_count": 54,
     "metadata": {},
     "output_type": "execute_result"
    },
    {
     "data": {
      "image/png": "[encoded data removed]",
      "text/plain": [
       "<Figure size 432x288 with 1 Axes>"
      ]
     },
     "metadata": {},
     "output_type": "display_data"
    }
   ],
   "source": [
    "# Plotting the different need levels in the training set\n",
    "train.Target.value_counts().plot(kind='bar', title='Count (target)')"
   ]
  },
  {
   "cell_type": "code",
   "execution_count": 55,
   "metadata": {},
   "outputs": [],
   "source": [
    "# Creating a dataframe from the training data only\n",
    "train_only = pd.concat([X_train, y_train], axis=1)\n",
    "\n",
    "# Class counting\n",
    "count_class_4, count_class_3, count_class_2, count_class_1 = train_only['Target'].value_counts()\n",
    "\n",
    "# Dividing by class\n",
    "df_class_1 = train_only[train_only['Target'] == 1]\n",
    "df_class_2 = train_only[train_only['Target'] == 2]\n",
    "df_class_3 = train_only[train_only['Target'] == 3]\n",
    "df_class_4 = train_only[train_only['Target'] == 4]"
   ]
  },
  {
   "cell_type": "code",
   "execution_count": 56,
   "metadata": {},
   "outputs": [
    {
     "name": "stdout",
     "output_type": "stream",
     "text": [
      "Random over-sampling:\n",
      "4    4178\n",
      "3    4178\n",
      "2    4178\n",
      "1    4178\n",
      "Name: Target, dtype: int64\n"
     ]
    },
    {
     "data": {
      "text/plain": [
       "<matplotlib.axes._subplots.AxesSubplot at 0x21cacbd7470>"
      ]
     },
     "execution_count": 56,
     "metadata": {},
     "output_type": "execute_result"
    },
    {
     "data": {
      "image/png": "[encoded data removed]",
      "text/plain": [
       "<Figure size 432x288 with 1 Axes>"
      ]
     },
     "metadata": {},
     "output_type": "display_data"
    }
   ],
   "source": [
    "# Oversampling underrepresented classes\n",
    "df_class_1_over = df_class_1.sample(count_class_4, replace=True)\n",
    "df_class_2_over = df_class_2.sample(count_class_4, replace=True)\n",
    "df_class_3_over = df_class_3.sample(count_class_4, replace=True)\n",
    "train_over = pd.concat([df_class_4, df_class_1_over, df_class_2_over, df_class_3_over], axis=0)\n",
    "\n",
    "# Printing the counts for each class \n",
    "print('Random over-sampling:')\n",
    "print(train_over.Target.value_counts())\n",
    "\n",
    "# Plotting the classes\n",
    "train_over.Target.value_counts().plot(kind='bar', title='Count (target)')\n"
   ]
  },
  {
   "cell_type": "code",
   "execution_count": 57,
   "metadata": {},
   "outputs": [],
   "source": [
    "# Splitting the data into X and y\n",
    "X_train_over = train_over.drop(['Target'], axis=1)\n",
    "y_train_over = train_over['Target']"
   ]
  },
  {
   "cell_type": "markdown",
   "metadata": {},
   "source": [
    "### Random forest with oversampled data"
   ]
  },
  {
   "cell_type": "code",
   "execution_count": 58,
   "metadata": {},
   "outputs": [
    {
     "name": "stdout",
     "output_type": "stream",
     "text": [
      "[[ 173   20    1   29]\n",
      " [  11  407   11   39]\n",
      " [   1   15  284   59]\n",
      " [   2    3    8 1805]]\n",
      "\n",
      "\n",
      "             precision    recall  f1-score   support\n",
      "\n",
      "          1       0.93      0.78      0.84       223\n",
      "          2       0.91      0.87      0.89       468\n",
      "          3       0.93      0.79      0.86       359\n",
      "          4       0.93      0.99      0.96      1818\n",
      "\n",
      "avg / total       0.93      0.93      0.93      2868\n",
      "\n",
      "\n",
      "\n",
      "macro f1-score 0.8887118215716857\n"
     ]
    }
   ],
   "source": [
    "# Creating the model\n",
    "rfc = RandomForestClassifier(n_estimators=1000)\n",
    "\n",
    "# Fitting the model\n",
    "rfc.fit(X_train_over, y_train_over)\n",
    "\n",
    "# Predicting\n",
    "pred8 = rfc.predict(X_test)\n",
    "\n",
    "# Evaluating the model\n",
    "print(confusion_matrix(y_test, pred8))\n",
    "print('\\n')\n",
    "print(classification_report(y_test, pred8))\n",
    "print('\\n')\n",
    "print('macro f1-score {}'.format(f1_score(y_test, pred8, average='macro')))"
   ]
  },
  {
   "cell_type": "markdown",
   "metadata": {},
   "source": [
    "We can see a significant improvement with the random forest that was trained on the oversampled data when compared to the one trained on the regular data. "
   ]
  },
  {
   "cell_type": "markdown",
   "metadata": {},
   "source": [
    "### Logistic Regression with oversampled data"
   ]
  },
  {
   "cell_type": "code",
   "execution_count": 59,
   "metadata": {},
   "outputs": [
    {
     "name": "stdout",
     "output_type": "stream",
     "text": [
      "[[ 124   48   27   24]\n",
      " [ 124  173  109   62]\n",
      " [  80   62  138   79]\n",
      " [ 142  130  284 1262]]\n",
      "\n",
      "\n",
      "             precision    recall  f1-score   support\n",
      "\n",
      "          1       0.26      0.56      0.36       223\n",
      "          2       0.42      0.37      0.39       468\n",
      "          3       0.25      0.38      0.30       359\n",
      "          4       0.88      0.69      0.78      1818\n",
      "\n",
      "avg / total       0.68      0.59      0.62      2868\n",
      "\n",
      "\n",
      "\n",
      "macro f1-score 0.4573483413626137\n"
     ]
    }
   ],
   "source": [
    "logpl = Pipeline([\n",
    "    ('scaler', StandardScaler()),\n",
    "    ('clf', OneVsRestClassifier(LogisticRegression()))\n",
    "    ])\n",
    "\n",
    "# Fitting model to scaled data\n",
    "logpl.fit(X_train_over, y_train_over)\n",
    "\n",
    "# Predicting\n",
    "pred9 = logpl.predict(X_test)\n",
    "\n",
    "# Evaluating the model\n",
    "print(confusion_matrix(y_test, pred9))\n",
    "print('\\n')\n",
    "print(classification_report(y_test, pred9))\n",
    "print('\\n')\n",
    "print('macro f1-score {}'.format(f1_score(y_test, pred9, average='macro')))"
   ]
  },
  {
   "cell_type": "markdown",
   "metadata": {},
   "source": [
    "We don't see much if any improvement in the macro f1-score when using the oversampled data with the logistic regression algorithm."
   ]
  },
  {
   "cell_type": "markdown",
   "metadata": {},
   "source": [
    "### Support Vector Machine with oversampled data"
   ]
  },
  {
   "cell_type": "code",
   "execution_count": 60,
   "metadata": {},
   "outputs": [
    {
     "name": "stdout",
     "output_type": "stream",
     "text": [
      "[[ 137   32   11   43]\n",
      " [  26  351   18   73]\n",
      " [  12   36  226   85]\n",
      " [  12   27   38 1741]]\n",
      "\n",
      "\n",
      "             precision    recall  f1-score   support\n",
      "\n",
      "          1       0.73      0.61      0.67       223\n",
      "          2       0.79      0.75      0.77       468\n",
      "          3       0.77      0.63      0.69       359\n",
      "          4       0.90      0.96      0.93      1818\n",
      "\n",
      "avg / total       0.85      0.86      0.85      2868\n",
      "\n",
      "\n",
      "\n",
      "macro f1-score 0.7639151407169433\n"
     ]
    }
   ],
   "source": [
    "# Creating a pipeline with best params\n",
    "svcploptimal = Pipeline([\n",
    "    ('scale', StandardScaler()),\n",
    "    ('clf', SVC(C=10, gamma=0.01))\n",
    "    ])\n",
    "\n",
    "# Fitting model to scaled data\n",
    "svcploptimal.fit(X_train_over, y_train_over)\n",
    "\n",
    "# Predicting\n",
    "pred10 = svcploptimal.predict(X_test)\n",
    "\n",
    "# Evaluating the model\n",
    "print(confusion_matrix(y_test, pred10))\n",
    "print('\\n')\n",
    "print(classification_report(y_test, pred10))\n",
    "print('\\n')\n",
    "print('macro f1-score {}'.format(f1_score(y_test, pred10, average='macro')))"
   ]
  },
  {
   "cell_type": "markdown",
   "metadata": {},
   "source": [
    "Using the oversampled data we see very little or no change with the support vector machine."
   ]
  },
  {
   "cell_type": "markdown",
   "metadata": {},
   "source": [
    "### K-Nearest Neighbors with oversampled data"
   ]
  },
  {
   "cell_type": "code",
   "execution_count": 61,
   "metadata": {},
   "outputs": [
    {
     "name": "stdout",
     "output_type": "stream",
     "text": [
      "[[ 142   26    9   46]\n",
      " [  26  332   26   84]\n",
      " [  14   32  220   93]\n",
      " [  44   67   95 1612]]\n",
      "\n",
      "\n",
      "             precision    recall  f1-score   support\n",
      "\n",
      "          1       0.63      0.64      0.63       223\n",
      "          2       0.73      0.71      0.72       468\n",
      "          3       0.63      0.61      0.62       359\n",
      "          4       0.88      0.89      0.88      1818\n",
      "\n",
      "avg / total       0.80      0.80      0.80      2868\n",
      "\n",
      "\n",
      "\n",
      "macro f1-score 0.7133773007107571\n"
     ]
    }
   ],
   "source": [
    "# Creating a pipeline with optimal K\n",
    "knnploptimal = Pipeline([\n",
    "    ('scale', StandardScaler()),\n",
    "    ('clf', KNeighborsClassifier(n_neighbors=1))\n",
    "    ])\n",
    "\n",
    "# Fitting model to scaled data\n",
    "knnploptimal.fit(X_train_over, y_train_over)\n",
    "\n",
    "# Predicting\n",
    "pred11 = knnploptimal.predict(X_test)\n",
    "\n",
    "# Evaluating the model\n",
    "print(confusion_matrix(y_test, pred11))\n",
    "print('\\n')\n",
    "print(classification_report(y_test, pred11))\n",
    "print('\\n')\n",
    "print('macro f1-score {}'.format(f1_score(y_test, pred11, average='macro')))"
   ]
  },
  {
   "cell_type": "markdown",
   "metadata": {},
   "source": [
    "Using the oversampled data we see very little or no change with the KNN as well."
   ]
  },
  {
   "cell_type": "markdown",
   "metadata": {},
   "source": [
    "## Further improvements\n",
    "Now that we have tried out several different models and determined that the random forest is going to be our most effective approach to this task, I have a few things to try to see if we can improve on the score."
   ]
  },
  {
   "cell_type": "markdown",
   "metadata": {},
   "source": [
    "### Boosting\n",
    "The first thing that I wanted to try to improve the score was to use boosting to help the model train on points that it missed. I chose to use a regular decision tree for this task because, the random forest overfits when used with this technique."
   ]
  },
  {
   "cell_type": "code",
   "execution_count": 62,
   "metadata": {},
   "outputs": [
    {
     "name": "stdout",
     "output_type": "stream",
     "text": [
      "[[ 169   22    8   24]\n",
      " [  12  378   22   56]\n",
      " [   5   32  267   55]\n",
      " [  14   56   38 1710]]\n",
      "\n",
      "\n",
      "             precision    recall  f1-score   support\n",
      "\n",
      "          1       0.84      0.76      0.80       223\n",
      "          2       0.77      0.81      0.79       468\n",
      "          3       0.80      0.74      0.77       359\n",
      "          4       0.93      0.94      0.93      1818\n",
      "\n",
      "avg / total       0.88      0.88      0.88      2868\n",
      "\n",
      "\n",
      "\n",
      "macro f1-score 0.8232406839576534\n"
     ]
    }
   ],
   "source": [
    "# Importing Libraries\n",
    "from sklearn.ensemble import AdaBoostClassifier\n",
    "from sklearn.tree import DecisionTreeClassifier\n",
    "\n",
    "# Boosting with decision trees\n",
    "boost = AdaBoostClassifier(DecisionTreeClassifier(), n_estimators = 500, learning_rate=.5)\n",
    "\n",
    "# Boosting Classifier\n",
    "\n",
    "boost.fit(X_train_over, y_train_over)\n",
    "\n",
    "# Predicting\n",
    "pred12 = boost.predict(X_test)\n",
    "\n",
    "# Evaluating the model\n",
    "print(confusion_matrix(y_test, pred12))\n",
    "print('\\n')\n",
    "print(classification_report(y_test, pred12))\n",
    "print('\\n')\n",
    "print('macro f1-score {}'.format(f1_score(y_test, pred12, average='macro')))"
   ]
  },
  {
   "cell_type": "markdown",
   "metadata": {},
   "source": [
    "Boosting works well with the decision trees and improves their performance over what they would have done by themselves, but they fail to outperform the random forest for this task. "
   ]
  },
  {
   "cell_type": "markdown",
   "metadata": {},
   "source": [
    "### Bagging\n",
    "The next technique that I wanted to try was bagging with decision trees. This creates a model that is very similar to a random forest, but still has some important differences. Most importantly, bagging can be used to train full trees on all of the features of a subset of a dataset, whereas a random forest trains trees on some +\n",
    "of the features of a subset of a dataset."
   ]
  },
  {
   "cell_type": "code",
   "execution_count": 63,
   "metadata": {},
   "outputs": [
    {
     "name": "stdout",
     "output_type": "stream",
     "text": [
      "[[ 180   22    4   17]\n",
      " [  14  417   14   23]\n",
      " [   5   13  305   36]\n",
      " [   3    8   21 1786]]\n",
      "\n",
      "\n",
      "             precision    recall  f1-score   support\n",
      "\n",
      "          1       0.89      0.81      0.85       223\n",
      "          2       0.91      0.89      0.90       468\n",
      "          3       0.89      0.85      0.87       359\n",
      "          4       0.96      0.98      0.97      1818\n",
      "\n",
      "avg / total       0.94      0.94      0.94      2868\n",
      "\n",
      "\n",
      "\n",
      "macro f1-score 0.8960319272681039\n"
     ]
    }
   ],
   "source": [
    "# Importing libraries\n",
    "from sklearn.ensemble import BaggingClassifier\n",
    "\n",
    "# Setting up the bagging classifier\n",
    "bg = BaggingClassifier(DecisionTreeClassifier(), max_samples=0.5, max_features=1.0, \n",
    "                       n_estimators = 700)\n",
    "\n",
    "# Fitting the model\n",
    "bg.fit(X_train_over, y_train_over)\n",
    "\n",
    "# Predicting\n",
    "pred13 = bg.predict(X_test)\n",
    "\n",
    "# Evaluating the model\n",
    "print(confusion_matrix(y_test, pred13))\n",
    "print('\\n')\n",
    "print(classification_report(y_test, pred13))\n",
    "print('\\n')\n",
    "print('macro f1-score {}'.format(f1_score(y_test, pred13, average='macro')))"
   ]
  },
  {
   "cell_type": "markdown",
   "metadata": {},
   "source": [
    "The bagged decision trees give the best macro f1-score yet and outperforms the random forest on this data. "
   ]
  },
  {
   "cell_type": "markdown",
   "metadata": {},
   "source": [
    "### Voting\n",
    "The last thing that I wanted to try to improve the score was using a voting classifier. This could be useful if there was something that some of the weaker machine learning techniques are picking up on that is being missed by the bagging classifier and the random forest."
   ]
  },
  {
   "cell_type": "code",
   "execution_count": 64,
   "metadata": {},
   "outputs": [
    {
     "name": "stdout",
     "output_type": "stream",
     "text": [
      "[[ 180   23    3   17]\n",
      " [  14  419   14   21]\n",
      " [   5   14  304   36]\n",
      " [   3    7   19 1789]]\n",
      "\n",
      "\n",
      "             precision    recall  f1-score   support\n",
      "\n",
      "          1       0.89      0.81      0.85       223\n",
      "          2       0.90      0.90      0.90       468\n",
      "          3       0.89      0.85      0.87       359\n",
      "          4       0.96      0.98      0.97      1818\n",
      "\n",
      "avg / total       0.94      0.94      0.94      2868\n",
      "\n",
      "\n",
      "\n",
      "macro f1-score 0.8972496820461495\n"
     ]
    },
    {
     "name": "stderr",
     "output_type": "stream",
     "text": [
      "C:\\Users\\Cam\\Anaconda3\\lib\\site-packages\\sklearn\\preprocessing\\label.py:151: DeprecationWarning: The truth value of an empty array is ambiguous. Returning False, but in future this will result in an error. Use `array.size > 0` to check that an array is not empty.\n",
      "  if diff:\n"
     ]
    }
   ],
   "source": [
    "# Importin voting classifier\n",
    "from sklearn.ensemble import VotingClassifier\n",
    "\n",
    "# Setting up the voting classifier\n",
    "rfc = RandomForestClassifier(n_estimators=700)\n",
    "rfc1 = RandomForestClassifier(n_estimators=700)\n",
    "bg = BaggingClassifier(DecisionTreeClassifier(), max_samples=0.5, \n",
    "                       max_features=1.0, n_estimators = 700)\n",
    "bg1 = BaggingClassifier(DecisionTreeClassifier(), max_samples=0.5, \n",
    "                       max_features=1.0, n_estimators = 700)\n",
    "svc = svcpl\n",
    "\n",
    "\n",
    "evc = VotingClassifier(estimators=[('rfc', rfc), ('svc',svcploptimal), ('bg',bg),\n",
    "                                   ('bg1',bg1)], voting='hard')\n",
    "\n",
    "# Fitting the classifier\n",
    "evc.fit(X_train_over, y_train_over)\n",
    "\n",
    "# Predicting\n",
    "pred14 = evc.predict(X_test)\n",
    "\n",
    "# Evaluating the model\n",
    "print(confusion_matrix(y_test, pred14))\n",
    "print('\\n')\n",
    "print(classification_report(y_test, pred14))\n",
    "print('\\n')\n",
    "print('macro f1-score {}'.format(f1_score(y_test, pred14, average='macro')))"
   ]
  },
  {
   "cell_type": "markdown",
   "metadata": {},
   "source": [
    "The voting classifier performed well on this data but did not outperform the bagged decision trees. As a result, I will use the bagged decision trees for my final predictions."
   ]
  },
  {
   "cell_type": "markdown",
   "metadata": {},
   "source": [
    "## Machine Learning Conclusions\n",
    "Of all of the machine learning techniques that I tried to accurately predict the need level of households, the bagging method with decision trees trained on all of the features of the dataset was the most effective in terms of the metric that the comptetition is being scored on. This method recieved a roughly .9 macro f1-score on the dataset. It makes a lot of sense that a decision tree model would do well on this data because, many of the features are binary values and decision trees do particularly well on that type of data.\n",
    "\n"
   ]
  },
  {
   "cell_type": "markdown",
   "metadata": {},
   "source": [
    "## Final Thoughts \n",
    "The strong scores in all categories for my model indicate that it could be very helpful in trying to accurately assess the amount of aid needed by these families. The model could be very effectively used by human reviewers to help with their review process or potentially be used to make the determinations on its own with only a little human oversight. Overall, this model is extremely effective at this categorization problem and would be extremely valuable to anyone trying to solve this problem."
   ]
  }
 ],
 "metadata": {
  "kernelspec": {
   "display_name": "Python 3",
   "language": "python",
   "name": "python3"
  },
  "language_info": {
   "codemirror_mode": {
    "name": "ipython",
    "version": 3
   },
   "file_extension": ".py",
   "mimetype": "text/x-python",
   "name": "python",
   "nbconvert_exporter": "python",
   "pygments_lexer": "ipython3",
   "version": "3.6.4"
  }
 },
 "nbformat": 4,
 "nbformat_minor": 2
}
